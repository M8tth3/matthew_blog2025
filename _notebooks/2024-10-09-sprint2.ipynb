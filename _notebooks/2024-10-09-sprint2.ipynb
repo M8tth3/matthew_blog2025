{
 "cells": [
  {
   "cell_type": "markdown",
   "metadata": {},
   "source": [
    "---\n",
    "toc: True\n",
    "comments: True\n",
    "layout: post\n",
    "title: Sprint 2 Recap\n",
    "description: Recapping Java College Board Units\n",
    "type: ccc\n",
    "courses: { csa: {week: 7} }\n",
    "menu: nav/sprint_recap.html\n",
    "---"
   ]
  },
  {
   "cell_type": "markdown",
   "metadata": {},
   "source": [
    "<style>\n",
    ".image {\n",
    "    border-radius: 20px;\n",
    "}\n",
    "</style>\n",
    "<img class=\"image\" width=600px height=auto src=\"https://github.com/user-attachments/assets/d9856499-11cc-48d5-95ee-1224994daff5\">"
   ]
  },
  {
   "cell_type": "markdown",
   "metadata": {},
   "source": [
    "[Link to issue](https://github.com/M8tth3/matthew_blog2025/issues/7)"
   ]
  },
  {
   "cell_type": "markdown",
   "metadata": {},
   "source": [
    "| **Assignment**             | **Points**    | **Grade** | **Evidence** |\n",
    "|----------------------------|---------------|-----------|--------------|\n",
    "| Pull Request (Integration) | 2             |     1.7      |   ![image](https://github.com/user-attachments/assets/bff43158-bac3-4af3-ae3d-eadcd0fe27b0) |\n",
    "| Relevancy Checklist (Peer) | 2             |     1.7      |   ![image](https://github.com/user-attachments/assets/61f9f637-5248-4ac4-96aa-4d3b93d5dfaf) ![image](https://github.com/user-attachments/assets/24de1cb9-caaa-4f1a-a39c-0ae8c3ebad96)|\n",
    "| Lesson (Group)             | 1             |     0.92      | ![image](https://github.com/user-attachments/assets/682f330c-3b7f-4efd-9e0d-64f1fa500be8)       |\n",
    "| Homework, Popcorn Hacks    | 1 x 8         |      0.905*8=7.24     |     0.91+0.92+0.91+0.9+0.91+0.9+0.9+0.89/8         |\n",
    "| Individual Contribution    | 1             |      0.90     |  ![image](https://github.com/user-attachments/assets/9b15d5dd-c558-4927-b57f-1fd8a0de79c4) |\n",
    "| Personal Notebooks / Blogs | 1             |     0.87      |        https://m8tth3.github.io/matthew_blog2025/2024/10/09/sprint2_IPYNB_2_.html      |\n",
    "| Total                      | 15            |     13.33     |       Overall, our group made a team teach that was engaging and accurately taught the college board content. However, we could improve on the integration process. Specifically, making sure our changes work and don't break anything before making a pull request to the main repository.       |\n",
    "\n",
    "\n",
    "| **Skill**                  | **Points**    | **Grade** | **Evidence** |\n",
    "|----------------------------|---------------|-----------|--------------|\n",
    "| Work Habits (Analytics)    |   1           |     0.88      |  ![image](https://github.com/user-attachments/assets/eabbd6b2-0c59-4907-a01e-51f3c4aab36d)       |\n",
    "| Team Planning (Issue)      |   1           |    0.91       |      [Issue](https://github.com/KinetekEnergy/studentCSA/issues/8)     |\n",
    "| Presentation Memories      |   1           |     0.9      |   ![image](https://github.com/user-attachments/assets/abbffefd-b263-40ad-9d07-38846c9051c1) ![image](https://github.com/user-attachments/assets/0964ccb0-1f0b-4309-bf8d-1c0655aa27ee) |\n",
    "| Grading and Feedback       |   1           |      0.88(Not graded yet)     |      [Have a standardized scoring rubric +   could have more specific feedback for each individual](https://docs.google.com/spreadsheets/d/1U10BMArtUBhoeb8jJivuY9H1p5I47xm4WPgaXtluF6Y/edit?usp=sharing)      |\n",
    "| Beyond Perfunctory         |   1           |    0.8       |       Created a unified theme(Minions) in our team teach to make the lesson much more engaging(even used a cafeteria banana as a pointer)| \n",
    "| Total                      |   5           |     4.37      |       Overall, creating the team teach was a very educational experience. Not just in creating the content itself, but also in developing integration skills and learning to be more organized. The other team teaches were very helpful as well, especially when the teams compared java to python(learning that negative indexes don't work was very sad).      |"
   ]
  },
  {
   "cell_type": "markdown",
   "metadata": {},
   "source": [
    "## Unit 1: Data Types\n",
    "\n",
    "- **Primitive Types:** Variable that stores a small amount of data, according to the type. They can't do special things. (boolean, byte, char,short,int,long,float,double)\n",
    "- **Reference Types:** Reference types store references to ``objects`` (ie classes, arrays, and interfaces)\n",
    "- **Stack Memory:** Stack memory stores temporary variables that are created by each function.\n",
    "    - Stores primitive data types + references to objects"
   ]
  },
  {
   "cell_type": "code",
   "execution_count": 1,
   "metadata": {
    "vscode": {
     "languageId": "java"
    }
   },
   "outputs": [],
   "source": [
    "double doubleNumber = 100.0; //Stored in Stack"
   ]
  },
  {
   "cell_type": "markdown",
   "metadata": {},
   "source": [
    "## Knowledge to have for sneaky college board questions \n",
    "- Reference types contain an address to the content on the stack\n",
    "- Passing a stack variable to a method creates a copy of the content of the variable\n",
    "- Changes to a primitive type's content will not return to the method caller(pass-by-value). Protects data from being changed by the function.\n",
    "- Pass-by-reference: A copy of the address of the parameter is stored."
   ]
  },
  {
   "cell_type": "markdown",
   "metadata": {},
   "source": [
    "- **Heap Memory:** Used for storing objects + arrays. It is managed by the garbage collector that reclaims memory when objects are not in use anymore."
   ]
  },
  {
   "cell_type": "markdown",
   "metadata": {},
   "source": [
    "## Unit 2: Using Objects\n",
    "- Create objects. Can use classes to create objects and reduce repetitive code by grouping attributes and behaviors together. Whoop whoop.\n",
    "- String Objects: Can be created in three different ways. String objects are immutable, every time a change is made, a new string object is created w updated val.\n",
    "```java\n",
    "String name1 = \"Bob\";\n",
    "String name2 = new String(\"Matthew\");\n",
    "\n",
    "String string1 = \"Stuart\"\n",
    "String name3 = new String(string1);\n",
    "```\n",
    "- Wrapper Classes: A wrapper class allows you to store primitive data types. Whoop whoop. For example, an ``Integer`` class wraps a value of the primitive type ``int`` into an object."
   ]
  },
  {
   "cell_type": "code",
   "execution_count": 2,
   "metadata": {
    "vscode": {
     "languageId": "java"
    }
   },
   "outputs": [
    {
     "name": "stdout",
     "output_type": "stream",
     "text": [
      "num1 = 5\n",
      "Maximum value of Integer: 2147483647\n",
      "Minimum value of Integer: -2147483648\n",
      "num1 as int: 5\n"
     ]
    }
   ],
   "source": [
    "public class Main {\n",
    "    public static void main(String[] args){\n",
    "        Integer num1 = new Integer(5);  // Constructor usage \n",
    "\n",
    "        System.out.println(\"num1 = \" + num1);\n",
    "        // System.out.println(\"num2 = \" + num2);\n",
    "        System.out.println(\"Maximum value of Integer: \" + Integer.MAX_VALUE);\n",
    "        System.out.println(\"Minimum value of Integer: \" + Integer.MIN_VALUE);\n",
    "        System.out.println(\"num1 as int: \" + num1.intValue());\n",
    "    }\n",
    "}\n",
    "Main.main(null)"
   ]
  },
  {
   "cell_type": "markdown",
   "metadata": {},
   "source": [
    "- Autoboxing: Conversion of a primitive value into an object of the corresponding wrapper class(Capital letters)\n",
    "- Unboxing: Converts an object of a wrapper type to the corresponding primitive value"
   ]
  },
  {
   "cell_type": "markdown",
   "metadata": {},
   "source": [
    "<style>\n",
    ".image {\n",
    "    border-radius: 20px;\n",
    "}\n",
    "</style>\n",
    "\n",
    "<img class=\"image\" width=\"300px\" height=\"auto\" src=\"https://github.com/user-attachments/assets/af0ae476-e060-43f1-b07f-849814b2d30b\">"
   ]
  },
  {
   "cell_type": "markdown",
   "metadata": {},
   "source": [
    "## Unit 3: Boolean Expressions and if Statements\n",
    "- Java Operators\n",
    "- Compound boolean expressions\n",
    "- Short circuited evaluation"
   ]
  },
  {
   "cell_type": "markdown",
   "metadata": {},
   "source": [
    "## Unit 4: Iteration\n",
    "- while loops\n",
    "    - Have to initialize the iterating value before the while statement, then ensure that you increment the iterating value in the body of the while loop.\n",
    "- Remember to initialize incrementing variable for regular for loop\n",
    "- **do while loops:** Runs a block inside the do statement once, then iterates through the loop. Ensures that the code runs at least once.\n",
    "```java\n",
    "int i=0;\n",
    "do {\n",
    "    System.out.println(i);\n",
    "    i++;\n",
    "}\n",
    "while(i<5);\n",
    "```\n",
    "- ``for each`` loop: Can iterate through items in a list, initialize incrementing variable when making the for each statement."
   ]
  },
  {
   "cell_type": "markdown",
   "metadata": {},
   "source": [
    "## Unit 5: Writing Classes\n",
    "- Header\n",
    "- Instance variables\n",
    "- Constructors\n",
    "    - Called as soon as an object is made. **They have the same name as the class w no return type.**\n",
    "    - No Arg Constructors, Parameterized Constructors, Default Constructors(Java makes a no-arg constructor automatically if a constructor is not specified)\n",
    "- Data Encapsulation w private instance variables\n",
    "    - Achieved by making instance variables private. Make getter + setter methods to access/update them.\n",
    "- Static variables (do not belong to individual objects. belongs to class. not object oriented programming)\n",
    "- ``this`` keyword to reference to the object itself within the class."
   ]
  },
  {
   "cell_type": "markdown",
   "metadata": {},
   "source": [
    "## Unit 6: Arrays\n",
    "- java array's are zero indexed\n",
    "- To create an array...\n",
    "    - Can either define the number of elements in the array\n",
    "        ```java\n",
    "        int[] array1 = new int[5]\n",
    "        ```\n",
    "        - Or initialize the array with values\n",
    "        ```java\n",
    "            String[] testArray = {\"Stuart\", \"Bob\",\"Kevin\"}\n",
    "        ```\n",
    "- **Negative indexing does not work**\n",
    "- Can't change length of array\n",
    "- Traversing arrays with for loop(can use list.length to iterate through)\n",
    "    - can also use a foreach and while loop\n"
   ]
  },
  {
   "cell_type": "markdown",
   "metadata": {},
   "source": [
    "## Unit 7: ArrayList\n",
    "- **import java.util.ArrayList**\n",
    "- Dynamic array(Can actually change the array length whoo)\n",
    "- Get the length of an array with the size method\n",
    "- To add items to an ArrayList...\n",
    "    ```java\n",
    "        ArrayList<String> addList = new ArrayList<String>();\n",
    "        addList.add(\"CSA\")\n",
    "    ```\n",
    "- SHould have only one type(Integer, String,etc) within the ArrayList\n",
    "- Does not store primitives"
   ]
  },
  {
   "cell_type": "markdown",
   "metadata": {},
   "source": [
    "## Unit 8: 2D Array\n",
    "- Array within array\n",
    "- Nested for loop to iterate through matrix\n",
    "- defined with two sets of brackets(ex: ``int[][] ArrayName``)\n",
    "- goes row then column\n",
    "- Use the .get method to retrieve an element at a specific method\n",
    "- Use the .set method to replace an element at a specific index\n",
    "- **Global sorting:** flattening the 2D array, sorting it, and then reshaping the array."
   ]
  },
  {
   "cell_type": "code",
   "execution_count": 3,
   "metadata": {
    "vscode": {
     "languageId": "java"
    }
   },
   "outputs": [
    {
     "name": "stdout",
     "output_type": "stream",
     "text": [
      "1\n",
      "2\n",
      "3\n",
      "4\n",
      "5\n",
      "6\n",
      "7\n",
      "8\n",
      "9\n"
     ]
    }
   ],
   "source": [
    "// Traversing a 2D array\n",
    "int[][] Array1 = {\n",
    "    {1, 2, 3}, \n",
    "    {4, 5, 6}, \n",
    "    {7, 8, 9}\n",
    "};\n",
    "for (int i = 0; i < Array1.length; i++) {\n",
    "    // This makes the variable i equal to 0, then the condition would be when i is less than the Array1 length, \n",
    "    // then it will loop to the next number, then add 1 to i.\n",
    "    \n",
    "    for (int j = 0; j < Array1[i].length; j++) {\n",
    "        System.out.println(Array1[i][j]);\n",
    "    }\n",
    "}\n"
   ]
  },
  {
   "cell_type": "markdown",
   "metadata": {},
   "source": [
    "- **College board tricks**\n",
    "    - Always be careful with column order, nonunified arrays, and ensure that all values are of the same type in the 2D array."
   ]
  },
  {
   "cell_type": "markdown",
   "metadata": {},
   "source": [
    "## Unit 9: Inheritance\n",
    "- **Superclass and Subclasses**\n",
    "    - Use the ``extends`` keyword to declare a subclass\n",
    "    ```java\n",
    "    public class Vehicle{\n",
    "        //code...\n",
    "    }\n",
    "    public class Car extends Vehicle{\n",
    "        //more code...\n",
    "    }\n",
    "    ```\n",
    "    - The ``super()`` keyword: When writing a constructor for a subclass, you use the super keyword to initialize the fields that you're inheriting from the parent class. \n",
    "- Overriding Methods:\n",
    "    - Use ``@Override`` before declaring a method that exists in the parent class that you want to override with your own code.\n",
    "- Polymorphism: Ability to perform an action in many ways\n",
    "    - Compile time: Achieved with method overloading(when there are multiple methods with the same name but w different parameters)\n",
    "    - Runtime: Calling an overridden method that is resolved at Runtime\n",
    "- Down casting"
   ]
  },
  {
   "cell_type": "markdown",
   "metadata": {},
   "source": [
    "<style>\n",
    ".image {\n",
    "    border-radius: 20px;\n",
    "}\n",
    "</style>\n",
    "\n",
    "\n",
    "<img width=\"400px\" height=\"auto\" class=\"image\" src=\"https://github.com/user-attachments/assets/8489762d-58f6-4f66-9421-f5199c9420b1\">"
   ]
  },
  {
   "cell_type": "code",
   "execution_count": 1,
   "metadata": {
    "vscode": {
     "languageId": "java"
    }
   },
   "outputs": [
    {
     "name": "stdout",
     "output_type": "stream",
     "text": [
      "bobs height: 4.42\n"
     ]
    }
   ],
   "source": [
    "class Minion{\n",
    "    String getName()\n",
    "    {\n",
    "        return \"kevin\";\n",
    "    }\n",
    "}\n",
    "\n",
    "class PurpleMinion extends Minion{\n",
    "    private String name;\n",
    "    PurpleMinion(String name)\n",
    "    {\n",
    "        this.name = name;\n",
    "    }\n",
    "    @Override\n",
    "    String getName()\n",
    "    {\n",
    "        return \"bob\";\n",
    "    }\n",
    "\n",
    "    double get_height()\n",
    "    {\n",
    "        return 4.42;\n",
    "    }\n",
    "}\n",
    "\n",
    "Minion kevin = new PurpleMinion(\"bob\");\n",
    "PurpleMinion bob = (PurpleMinion)kevin;\n",
    "System.out.println(\"bobs height: \" + bob.get_height());"
   ]
  },
  {
   "cell_type": "markdown",
   "metadata": {},
   "source": [
    "<script src=\"https://utteranc.es/client.js\"\n",
    "        repo=\"m8tth3/matthew_blog2025\"\n",
    "        issue-term=\"pathname\"\n",
    "        theme=\"github-light\"\n",
    "        crossorigin=\"anonymous\"\n",
    "        async>\n",
    "</script>"
   ]
  }
 ],
 "metadata": {
  "kernelspec": {
   "display_name": "Java",
   "language": "java",
   "name": "java"
  },
  "language_info": {
   "codemirror_mode": "java",
   "file_extension": ".jshell",
   "mimetype": "text/x-java-source",
   "name": "Java",
   "pygments_lexer": "java",
   "version": "11.0.24+8-post-Ubuntu-1ubuntu322.04"
  }
 },
 "nbformat": 4,
 "nbformat_minor": 2
}
