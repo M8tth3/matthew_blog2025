{
 "cells": [
  {
   "cell_type": "markdown",
   "metadata": {},
   "source": [
    "---\n",
    "toc: True\n",
    "comments: True\n",
    "layout: post\n",
    "title: Sprint 2 Recap\n",
    "description: Recapping Java College Board Units\n",
    "type: ccc\n",
    "courses: { csa: {week: 7} }\n",
    "menu: nav/sprint_recap.html\n",
    "---"
   ]
  },
  {
   "cell_type": "markdown",
   "metadata": {},
   "source": [
    "<style>\n",
    ".image {\n",
    "    border-radius: 20px;\n",
    "}\n",
    "</style>\n",
    "<img class=\"image\" width=600px height=auto src=\"https://github.com/user-attachments/assets/d9856499-11cc-48d5-95ee-1224994daff5\">"
   ]
  },
  {
   "cell_type": "markdown",
   "metadata": {},
   "source": [
    "## Unit 1: Data Types\n",
    "\n",
    "- **Primitive Types:** Variable that stores a small amount of data, according to the type. They can't do special things. (boolean, byte, char,short,int,long,float,double)\n",
    "- **Reference Types:** Reference types store references to ``objects`` (ie classes, arrays, and interfaces)\n",
    "- **Stack Memory:** Stack memory stores temporary variables that are created by each function.\n",
    "    - Stores primitive data types + references to objects"
   ]
  },
  {
   "cell_type": "code",
   "execution_count": 1,
   "metadata": {
    "vscode": {
     "languageId": "java"
    }
   },
   "outputs": [],
   "source": [
    "double doubleNumber = 100.0; //Stored in Stack"
   ]
  },
  {
   "cell_type": "markdown",
   "metadata": {},
   "source": [
    "## Knowledge to have for sneaky college board questions \n",
    "- Reference types contain an address to the content on the stack\n",
    "- Passing a stack variable to a method creates a copy of the content of the variable\n",
    "- Changes to a primitive type's content will not return to the method caller(pass-by-value). Protects data from being changed by the function.\n",
    "- Pass-by-reference: A copy of the address of the parameter is stored."
   ]
  },
  {
   "cell_type": "markdown",
   "metadata": {},
   "source": [
    "- **Heap Memory:** Used for storing objects + arrays. It is managed by the garbage collector that reclaims memory when objects are not in use anymore."
   ]
  },
  {
   "cell_type": "markdown",
   "metadata": {},
   "source": [
    "## Unit 2: Using Objects\n",
    "- Create objects. Can use classes to create objects and reduce repetitive code by grouping attributes and behaviors together. Whoop whoop.\n",
    "- String Objects: Can be created in three different ways. String objects are immutable, every time a change is made, a new string object is created w updated val.\n",
    "```java\n",
    "String name1 = \"Bob\";\n",
    "String name2 = new String(\"Matthew\");\n",
    "\n",
    "String string1 = \"Stuart\"\n",
    "String name3 = new String(string1);\n",
    "```\n",
    "- Wrapper Classes: A wrapper class allows you to store primitive data types. Whoop whoop. For example, an ``Integer`` class wraps a value of the primitive type ``int`` into an object."
   ]
  },
  {
   "cell_type": "code",
   "execution_count": 2,
   "metadata": {
    "vscode": {
     "languageId": "java"
    }
   },
   "outputs": [
    {
     "name": "stdout",
     "output_type": "stream",
     "text": [
      "num1 = 5\n",
      "Maximum value of Integer: 2147483647\n",
      "Minimum value of Integer: -2147483648\n",
      "num1 as int: 5\n"
     ]
    }
   ],
   "source": [
    "public class Main {\n",
    "    public static void main(String[] args){\n",
    "        Integer num1 = new Integer(5);  // Constructor usage \n",
    "\n",
    "        System.out.println(\"num1 = \" + num1);\n",
    "        // System.out.println(\"num2 = \" + num2);\n",
    "        System.out.println(\"Maximum value of Integer: \" + Integer.MAX_VALUE);\n",
    "        System.out.println(\"Minimum value of Integer: \" + Integer.MIN_VALUE);\n",
    "        System.out.println(\"num1 as int: \" + num1.intValue());\n",
    "    }\n",
    "}\n",
    "Main.main(null)"
   ]
  },
  {
   "cell_type": "markdown",
   "metadata": {},
   "source": [
    "- Autoboxing: Conversion of a primitive value into an object of the corresponding wrapper class(Capital letters)\n",
    "- Unboxing: Converts an object of a wrapper type to the corresponding primitive value"
   ]
  },
  {
   "cell_type": "markdown",
   "metadata": {},
   "source": [
    "<style>\n",
    ".image {\n",
    "    border-radius: 20px;\n",
    "}\n",
    "</style>\n",
    "\n",
    "<img class=\"image\" width=\"300px\" height=\"auto\" src=\"https://github.com/user-attachments/assets/af0ae476-e060-43f1-b07f-849814b2d30b\">"
   ]
  },
  {
   "cell_type": "markdown",
   "metadata": {},
   "source": [
    "## Unit 3: Boolean Expressions and if Statements\n",
    "- Java Operators\n",
    "- Compound boolean expressions\n",
    "- Short circuited evaluation"
   ]
  },
  {
   "cell_type": "markdown",
   "metadata": {},
   "source": [
    "## Unit 4: Iteration\n",
    "- while loops\n",
    "    - Have to initialize the iterating value before the while statement, then ensure that you increment the iterating value in the body of the while loop.\n",
    "- Remember to initialize incrementing variable for regular for loop\n",
    "- **do while loops:** Runs a block inside the do statement once, then iterates through the loop. Ensures that the code runs at least once.\n",
    "```java\n",
    "int i=0;\n",
    "do {\n",
    "    System.out.println(i);\n",
    "    i++;\n",
    "}\n",
    "```\n",
    "- ``for each`` loop: Can iterate through items in a list, initialize incrementing variable when making the for each statement."
   ]
  },
  {
   "cell_type": "markdown",
   "metadata": {},
   "source": [
    "## Unit 5: Writing Classes\n",
    "- Header\n",
    "- Instance variables\n",
    "- Constructors\n",
    "    - Called as soon as an object is made. **They have the same name as the class w no return type.**\n",
    "    - No Arg Constructors, Parameterized Constructors, Default Constructors(Java makes a no-arg constructor automatically if a constructor is not specified)\n",
    "- Data Encapsulation w private instance variables\n",
    "    - Achieved by making instance variables private. Make getter + setter methods to access/update them.\n",
    "- Static variables (do not belong to individual objects. belongs to class. not object oriented programming)\n",
    "- ``this`` keyword to reference to the object itself within the class."
   ]
  },
  {
   "cell_type": "markdown",
   "metadata": {},
   "source": [
    "## Unit 6: Arrays\n",
    "- Can't change length of array\n",
    "- Traversing arrays with for loop\n"
   ]
  },
  {
   "cell_type": "markdown",
   "metadata": {},
   "source": [
    "## Unit 7: ArrayList\n",
    "- Dynamic array(Can actually change the array length whoo)\n",
    "- SHould have only one type(Integer, String,etc) within the ArrayList\n",
    "- import java.util.ArrayList\n",
    "- Does not store primitives"
   ]
  },
  {
   "cell_type": "markdown",
   "metadata": {},
   "source": [
    "## Unit 8: 2D Array\n",
    "- Array within array\n",
    "- Nested for loop to iterate through matrix\n",
    "- defined with two sets of brackets(ex: ``int[][] ArrayName``)\n"
   ]
  },
  {
   "cell_type": "markdown",
   "metadata": {},
   "source": [
    "## Unit 9: Inheritance\n",
    "- Polymorphism\n",
    "- Compile time vs run time\n",
    "- Down casting\n",
    "- Superclass and subclass(use extends keyword)\n"
   ]
  },
  {
   "cell_type": "markdown",
   "metadata": {},
   "source": [
    "<style>\n",
    ".image {\n",
    "    border-radius: 20px;\n",
    "}\n",
    "</style>\n",
    "\n",
    "\n",
    "<img width=\"400px\" height=\"auto\" class=\"image\" src=\"https://github.com/user-attachments/assets/8489762d-58f6-4f66-9421-f5199c9420b1\">"
   ]
  }
 ],
 "metadata": {
  "kernelspec": {
   "display_name": "Java",
   "language": "java",
   "name": "java"
  },
  "language_info": {
   "codemirror_mode": "java",
   "file_extension": ".jshell",
   "mimetype": "text/x-java-source",
   "name": "Java",
   "pygments_lexer": "java",
   "version": "11.0.24+8-post-Ubuntu-1ubuntu322.04"
  }
 },
 "nbformat": 4,
 "nbformat_minor": 2
}
