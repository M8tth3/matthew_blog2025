{
 "cells": [
  {
   "cell_type": "markdown",
   "metadata": {},
   "source": [
    "---\n",
    "toc: True\n",
    "comments: True\n",
    "layout: post\n",
    "title: 2D Arrays HW 2\n",
    "description: Curious about peanut butter? This is the place for you.\n",
    "type: ccc\n",
    "permalink: 2darrays2\n",
    "courses: { csa: {week: 0} }\n",
    "---"
   ]
  },
  {
   "cell_type": "code",
   "execution_count": null,
   "metadata": {},
   "outputs": [],
   "source": [
    "int[] grassArray = new int[7];\n",
    "int[][] grassData = {\n",
    "    {2, 3, 1, 4, 3, 2, 5},\n",
    "    {1, 2, 3, 1, 4, 2, 3},\n",
    "    {3, 4, 2, 5, 1, 3, 2}\n",
    "};\n",
    "\n",
    "for (int col = 0; col < grassData[0].length; col++)\n",
    "{\n",
    "    for (int row = 0; row < grassData.length; row++)\n",
    "    {\n",
    "        grassArray[col] += grassData[row][col];\n",
    "    }\n",
    "}\n",
    "System.out.println(Arrays.toString(grassArray));"
   ]
  },
  {
   "cell_type": "code",
   "execution_count": 4,
   "metadata": {},
   "outputs": [],
   "source": []
  },
  {
   "cell_type": "code",
   "execution_count": 9,
   "metadata": {},
   "outputs": [
    {
     "ename": "CompilationException",
     "evalue": "",
     "output_type": "error",
     "traceback": [
      "\u001b[1m\u001b[30m|   \u001b[1m\u001b[30m        if (numcols == \u001b[0m\u001b[1m\u001b[30m\u001b[41m\u001b[0m\u001b[1m\u001b[30m)\u001b[0m",
      "\u001b[1m\u001b[31millegal start of expression\u001b[0m",
      ""
     ]
    }
   ],
   "source": [
    "public class Location {\n",
    "    private int theRow;\n",
    "    private int theCol;\n",
    "\n",
    "    public Location(int r, int c) {\n",
    "        theRow = r;\n",
    "        theCol = c;\n",
    "    }\n",
    "\n",
    "    public int getRow() {\n",
    "        return theRow;\n",
    "    }\n",
    "\n",
    "    public int getCol() {\n",
    "        return theCol;\n",
    "    }\n",
    "}\n",
    "public class GridPath {\n",
    "    /** Initialized in the constructor with distinct values that never change */\n",
    "    private int[][] grid;\n",
    "\n",
    "    public GridPath(int[][] values)\n",
    "    {\n",
    "        grid = values;\n",
    "    }\n",
    "\n",
    "    /**\n",
    "    * Returns the Location representing a neighbor of the grid element at row and col,\n",
    "    * as described in part (a)\n",
    "    * Preconditions: row is a valid row index and col is a valid column index in grid.\n",
    "    * row and col do not specify the element in the last row and last column of grid.\n",
    "    */\n",
    "\n",
    "    public Location getNextLoc(int row, int col) {\n",
    "        /* to be implemented in part (a) */\n",
    "        int below = grid[row][col+1];\n",
    "        int right = grid[row + 1][col];\n",
    "        int numcols = grid.length[0];\n",
    "        int numrows = grid.length;\n",
    "\n",
    "        if (numcols == col)\n",
    "        {\n",
    "\n",
    "        }\n",
    "\n",
    "        if (below < right)\n",
    "        {            \n",
    "            return new Location(row, col+1);\n",
    "        }\n",
    "        else\n",
    "        {\n",
    "            return new Location(row+1, col);\n",
    "        }\n",
    "    }\n",
    "\n",
    "    /**\n",
    "    * Computes and returns the sum of all values on a path through grid, as described in\n",
    "    * part (b)\n",
    "    * Preconditions: row is a valid row index and col is a valid column index in grid.\n",
    "    * row and col do not specify the element in the last row and last column of grid.\n",
    "    */\n",
    "    public int sumPath(int row, int col) {\n",
    "        /* to be implemented in part (b) */\n",
    "\n",
    "    }\n",
    "    \n",
    "    // There may be instance variables, constructors, and methods that are not shown.\n",
    "}"
   ]
  },
  {
   "cell_type": "code",
   "execution_count": null,
   "metadata": {},
   "outputs": [],
   "source": []
  }
 ],
 "metadata": {
  "kernelspec": {
   "display_name": "Java",
   "language": "java",
   "name": "java"
  },
  "language_info": {
   "codemirror_mode": "java",
   "file_extension": ".jshell",
   "mimetype": "text/x-java-source",
   "name": "java",
   "pygments_lexer": "java",
   "version": "17.0.13+11-Ubuntu-2ubuntu122.04"
  }
 },
 "nbformat": 4,
 "nbformat_minor": 2
}
