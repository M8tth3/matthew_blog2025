{
 "cells": [
  {
   "cell_type": "markdown",
   "id": "5b496d96",
   "metadata": {},
   "source": [
    "---\n",
    "toc: True\n",
    "comments: True\n",
    "layout: post\n",
    "title: AP CSA FRQs\n",
    "description: \n",
    "type: ccc\n",
    "permalink: csareviewfrq\n",
    "menu: nav/sprint_recap.html\n",
    "courses: { csa: {week: 0} }\n",
    "---"
   ]
  },
  {
   "cell_type": "markdown",
   "id": "6f84667e",
   "metadata": {},
   "source": [
    "<style>\n",
    "code {\n",
    "    color: black!important;\n",
    "}\n",
    "</style>"
   ]
  },
  {
   "cell_type": "markdown",
   "id": "1f7ac4d8",
   "metadata": {},
   "source": [
    "## Four Types of FRQ\n",
    "- Q1. Methods and Control Structures - Students will be asked to write program code to ccreate objects of a class and call methods, and satisfy method specifications using expressions, conditional statements, and iterative statements\n",
    "- Q2. Classes - Students will be asked to write program code to define a new type by creating a class and satisfy method specifications using expressions, conditional statements, and iterative statements.\n",
    "- Q3. Array/ArrayList - Students willb e asked to write program code to satisfy method specifications using expressions, conditional statements, and iterative statements and create,t raverse, and manipulate elements in 1D array or ArrayList objects.\n",
    "- Q4. 2D Array - Students will be asked to write program code to satisfy method specifications using expressions, conditional statements, and iterative statemetns and create,, traverse, and manipulate elements in 2D array objects."
   ]
  },
  {
   "cell_type": "markdown",
   "id": "fc157f64",
   "metadata": {},
   "source": [
    "## 2014 FRQ"
   ]
  },
  {
   "cell_type": "markdown",
   "id": "412d5391",
   "metadata": {},
   "source": [
    "## Q1 (8/9)\n",
    "- Need ensure that when iterating through 2D array need to keep in mind whether you are storing the row in i or the values within the row."
   ]
  },
  {
   "cell_type": "code",
   "execution_count": 34,
   "id": "d3c05f6d",
   "metadata": {},
   "outputs": [],
   "source": [
    "import java.util.Arrays;\n",
    "\n",
    "// Write static method arraysum that calculates and returns the sum of the entires in a specified one-dimentional array. The following example shows an array arr1 and the value returned by a call to arraySum\n",
    "\n",
    "public static int arraySum(int[]arr)\n",
    "{\n",
    "    int sum = 0;\n",
    "    for(int i  = 0; i < arr.length; i++)\n",
    "    {\n",
    "        sum += arr[i];\n",
    "    }\n",
    "    return sum;\n",
    "}\n",
    "\n",
    "// Write a static method rowSums that calculate sth esums of each of the rows in a given two-dimensional array and returns these sums in a one-dimensional array. The emthod has one parameter, a two-dimensional array arr2D of int values. The array is in row-major order: arr2D[r][c] is the entry at row r and column c. The method returns a one-dimensional array with one entry for each row of arr2D such that each entry is the sum of the corresponding row in arr2D. As a reminder, each row of a two-dimensional array is a one-dimensional array.\n",
    "public static int[] rowSums(int[][] arr2D)\n",
    "{\n",
    "    int[] sums = new int[arr2D.length];\n",
    "    for(int i = 0; i < arr2D.length; i++)\n",
    "    {\n",
    "        for(int k: arr2D[i])\n",
    "        {\n",
    "            sums[i] += k;\n",
    "        }\n",
    "    }\n",
    "    return sums;\n",
    "}\n",
    "\n",
    "// A two-dimensional array is diverse if no two of its rows have entries that sum ot hte same value. In the followign examples, the array mat1 is diverse because each row sum is different, but the array mat2 is not diverse because the first and last rows and the same sum.\n",
    "public static boolean isDiverse(int[][] arr2D)\n",
    "{\n",
    "    int[] sums = rowSums(arr2D);\n",
    "    Arrays.sort(sums);\n",
    "    for(int i = 0; i < sums.length - 1; i++)\n",
    "    {\n",
    "        if(sums[i] == sums[i + 1])\n",
    "        {\n",
    "            return false;\n",
    "        }\n",
    "    }\n",
    "    return true;\n",
    "}"
   ]
  },
  {
   "cell_type": "markdown",
   "id": "b65602cc",
   "metadata": {},
   "source": [
    "## Q2 (7/9)\n",
    "- Refresher on the .charAt function and the .contains function. However, I understand the logic."
   ]
  },
  {
   "cell_type": "code",
   "execution_count": 35,
   "id": "c999f360",
   "metadata": {},
   "outputs": [
    {
     "ename": "CompilationException",
     "evalue": "",
     "output_type": "error",
     "traceback": [
      "\u001b[1m\u001b[30m|   \u001b[1m\u001b[30m            else if(hiddenWord.contains(\u001b[0m\u001b[1m\u001b[30m\u001b[41mguess.charAt(i)\u001b[0m\u001b[1m\u001b[30m))\u001b[0m",
      "\u001b[1m\u001b[31mincompatible types: char cannot be converted to java.lang.CharSequence\u001b[0m",
      ""
     ]
    }
   ],
   "source": [
    "// Write the complete hidden Word class, including any necessary instance variables, its constructor and the method, getHint described above. You may assume that the length of the guess is the same as the length of the hidden word.AbstractCollection\n",
    "public class HiddenWord{\n",
    "    private String hiddenWord;\n",
    "    private String guess;\n",
    "\n",
    "    public HiddenWord(String hiddenWord, String guess)\n",
    "    {\n",
    "        this.hiddenWord = hiddenWord;\n",
    "        this.guess = guess;\n",
    "    }\n",
    "\n",
    "    public String getHint()\n",
    "    {\n",
    "        String hint = \"\";\n",
    "        for(int i = 0; i < hiddenWord.length(); i++)\n",
    "        {\n",
    "            if(hiddenWord.charAt(i) == guess.charAt(i))\n",
    "            {\n",
    "                hint += hiddenWord.charAt(i);\n",
    "                //charAt function + the .contains function\n",
    "            }\n",
    "            else if(hiddenWord.contains(guess.charAt(i)))\n",
    "            {\n",
    "                hint += \"+\";\n",
    "            }\n",
    "            else\n",
    "            {\n",
    "                hint += \"-\";\n",
    "            }\n",
    "        }\n",
    "        return hint;\n",
    "    }\n",
    "}"
   ]
  },
  {
   "cell_type": "markdown",
   "id": "927df664",
   "metadata": {},
   "source": [
    "## Q3 (5/9) \n",
    "- Wasn't really sure how to do part b. So I consulted my best friend chat gtp to break down the problem and explain the solution to me. "
   ]
  },
  {
   "cell_type": "code",
   "execution_count": null,
   "id": "4bf4f231",
   "metadata": {},
   "outputs": [],
   "source": [
    "// Write the Sparse Array method getValue At. The method returns the value fo the sparse array element at a given row and column in the sparse array element at a given row and column in the sparse array. if the list entries contains an etry with the specified row and column the value associated with the entry is returned. if there is no entry in entries corresponding to the specified row and column, 0 is returned. in the example above, the call sparse.getValueAt(3,1) would return -9, and sparse.getValueAt(3,3) would return 0.AbstractExecutorService\n",
    "\n",
    "public class SparseArray{\n",
    "    private List<Entry> entries;\n",
    "\n",
    "    public SparseArray()\n",
    "    {\n",
    "        entries = new ArrayList<>();\n",
    "    }\n",
    "\n",
    "    public void addEntry(int row, int col, int value)\n",
    "    {\n",
    "        entries.add(new Entry(row, col, value));\n",
    "    }\n",
    "\n",
    "    public int getValueAt(int row, int col)\n",
    "    {\n",
    "        for(Entry entry : entries)\n",
    "        {\n",
    "            if(entry.getRow() == row && entry.getCol() == col)\n",
    "            {\n",
    "                return entry.getValue();\n",
    "            }\n",
    "        }\n",
    "        return 0;\n",
    "    }\n",
    "}\n",
    "// Corrections:\n",
    "// 1. The `Entry` class is not defined in the provided code. It should be defined with appropriate fields and methods (getRow, getCol, getValue).\n",
    "// 2. The `entries` list should be initialized with the correct type `List<Entry>`.\n",
    "// 3. Ensure proper imports for `List` and `ArrayList`.\n",
    "\n",
    "// Takeaways:\n",
    "// - Always define and include all necessary classes (like `Entry`) when working with custom data structures.\n",
    "// - Use appropriate data structures (like `List`) to store and manage collections of objects.\n",
    "// - Implement methods carefully to handle edge cases, such as when no matching entry is found in the sparse array.\n",
    "\n",
    "//Write the SparseArray method removeColumn. After removing a specified column from a sparse array:\n",
    "public void removeColumn(int col)\n",
    "{\n",
    "    for(Entry entry : entries)\n",
    "    {\n",
    "        if(entry.getCol() == col)\n",
    "        {\n",
    "            entries.remove(entry);\n",
    "        }\n",
    "        else if(entry.getCol() > col)\n",
    "        {\n",
    "            entry.setCol(entry.getCol() - 1);\n",
    "        }\n",
    "    }\n",
    "}"
   ]
  },
  {
   "cell_type": "markdown",
   "id": "49e679ee",
   "metadata": {},
   "source": [
    "## Q4 (5/9)\n",
    "- Need to review how implementing interfaces works with classes.s"
   ]
  },
  {
   "cell_type": "code",
   "execution_count": null,
   "id": "fb1421c8",
   "metadata": {},
   "outputs": [],
   "source": [
    "// A number group represents a group of integers defined in some way. it could be epty or contain one or more integers.AbstractCollection Write an interface named NumberGroup that represents a group of integers. The interface should have a single contains method that determines if a given integer is in the group. For example, if group1 is of type NubmerGroup, and it contains only the two numbers -5 and 3, then group1.contains(-5) would return true, and group1.contains(2) would return false.AbstractCollection. Write\n",
    "public class Range implements NumberGroup\n",
    "{\n",
    "    private int max;\n",
    "    private int min;\n",
    "\n",
    "    public Range(int min, int max) {\n",
    "        this.min = min;\n",
    "        this.max = max;\n",
    "    }\n",
    "\n",
    "    public boolean contains(int num) {\n",
    "        return num >= min && num <= max;\n",
    "    }\n",
    "}"
   ]
  },
  {
   "cell_type": "code",
   "execution_count": null,
   "id": "d91a9182",
   "metadata": {},
   "outputs": [],
   "source": [
    "public interface NumberGroup{\n",
    "    boolean contains(int number);\n",
    "}\n",
    "\n",
    "// A range represents a number group that contains all (and only) the integers between a minimum value and a maximum value, inclusive. Write the Range class which is a NumberGroup. The Range class represents the group of int values that range from a given mimimum value up through a given maximum value, inclusive. \n",
    "\n",
    "\n",
    "\n",
    "// The MultipleGroups class represents a collection of NumberGroup objects and isa NumberGroup. The MultipleGorups class stores the number groups in the instance variable groupList (shown below), which is initialized in the constructor. Write the MultipleGroups method contains. The method takes an integer and returns true if and only if the integer is contained in one or more of the number gf gorups in groupList. For example, suppose multiple1 has beend eclared as an instance MultipelGroups and ocnsists of the three ranges created by the calls new Range(5,8), new Range(10,12), and new Range(1,6). The following table shows the resuslts of several calls to contains.\n",
    "public class MultipleGroups implements NumberGroup{\n",
    "    private List<NumberGroup> groupList;\n",
    "\n",
    "    public MultipleGroups(List<NumberGroup> groupList)\n",
    "    {\n",
    "        this.groupList = groupList;\n",
    "    }\n",
    "\n",
    "    @Override\n",
    "    public boolean contains(int number)\n",
    "    {\n",
    "        for(NumberGroup group : groupList)\n",
    "        {\n",
    "            if(group.contains(number))\n",
    "            {\n",
    "                return true;\n",
    "            }\n",
    "        }\n",
    "        return false;\n",
    "    }\n",
    "}\n",
    "// Corrections:\n",
    "// 1. The `NumberGroup` interface should be defined with the `contains` method.\n",
    "// 2. The `Range` class should implement the `NumberGroup` interface and define the `contains` method.\n",
    "// 3. The `MultipleGroups` class should also implement the `NumberGroup` interface and define the `contains` method."
   ]
  },
  {
   "cell_type": "markdown",
   "id": "bfb5b67b",
   "metadata": {},
   "source": [
    "## 2020 FRQ"
   ]
  },
  {
   "cell_type": "markdown",
   "id": "193d07c6",
   "metadata": {},
   "source": [
    "## Q1 (9/9)"
   ]
  },
  {
   "cell_type": "code",
   "execution_count": null,
   "id": "aa4e3a42",
   "metadata": {},
   "outputs": [
    {
     "data": {
      "text/plain": [
       "0.5"
      ]
     },
     "execution_count": 18,
     "metadata": {},
     "output_type": "execute_result"
    }
   ],
   "source": [
    "// The length of a hailstone sequence is the number of terms it contains. For example, the hailstone sequence in example 1 (5,16,8,4,2,1) has a length of 6 and the hialstone sequence in example 2 (8,4,2,1) has a length of 4. Write the method hailstoneLength (int n ) which returns the length of the hailstone sequence that starts with n\n",
    "public static int hailstoneLength(int n)\n",
    "{\n",
    "    int length = 0;\n",
    "    while(n != 1)\n",
    "    {\n",
    "        length++;\n",
    "        if(n %2 == 0)\n",
    "        {\n",
    "            n /= 2;\n",
    "        }\n",
    "        else\n",
    "        {\n",
    "            n = 3*n + 1;\n",
    "        }\n",
    "    }\n",
    "    return length+1;\n",
    "}\n",
    "\n",
    "//A hailstone sequence is considered long if its length is greater than its starting value. For example, the hailstone sequence in example 1 is considered long because its length 6 is greater than its starting value 5. The Write a method isLongSeq(int n) which returns true if the hailstone sequence starting with n is considered long and returns false otherwise. Assume that hailstonelength works as intended, regardless of what you wrote in part a.AbstractCollectionpu\n",
    "public static boolean isLongSeq(int n)\n",
    "{\n",
    "    int length = hailstoneLength(n);\n",
    "    if(length > n)\n",
    "    {\n",
    "        return true;\n",
    "    }\n",
    "    else{\n",
    "        return false;\n",
    "    }\n",
    "}\n",
    "\n",
    "//The method propLong(int n) returns the proportionof long hailstone sequences with starting values between 1 and n, inclusive. \n",
    "public static double propLong(int n)\n",
    "{\n",
    "    double count = 0.0;\n",
    "    for(int i=1; i <= n; i++)\n",
    "    {\n",
    "        if(isLongSeq(i))\n",
    "        {\n",
    "            count++;\n",
    "        }\n",
    "    }\n",
    "    return count/n;\n",
    "}\n"
   ]
  },
  {
   "cell_type": "markdown",
   "id": "f7c5ea98",
   "metadata": {},
   "source": [
    "## Q2 (6/9)\n",
    "- Need to review the \"static\" key word. NOTE: do not use \"this.\" when returning a static variable."
   ]
  },
  {
   "cell_type": "code",
   "execution_count": 38,
   "id": "995708ff",
   "metadata": {},
   "outputs": [
    {
     "name": "stdout",
     "output_type": "stream",
     "text": [
      "Current run: 1\n",
      "Spin result: 3\n",
      "Current run: 1\n",
      "Spin result: 3\n",
      "Current run: 2\n",
      "Spin result: 0\n",
      "Current run: 1\n",
      "Spin result: 3\n",
      "Current run: 1\n",
      "Spin result: 0\n",
      "Current run: 1\n"
     ]
    },
    {
     "data": {
      "text/plain": [
       "1"
      ]
     },
     "execution_count": 38,
     "metadata": {},
     "output_type": "execute_result"
    }
   ],
   "source": [
    "public class GameSpinner\n",
    "{\n",
    "\tprivate int sectors;\n",
    "    public static int currentRun = 0;\n",
    "    private static int previousNumber;\n",
    "    \n",
    "    public GameSpinner(int sectors)\n",
    "    {\n",
    "        this.sectors = sectors;\n",
    "    }\n",
    "    \n",
    "    public static int currentRun()\n",
    "    {\n",
    "        System.out.println(\"Current run: \" + currentRun);\n",
    "        return currentRun;\n",
    "    }\n",
    "    public int spin()\n",
    "    {\n",
    "        int number = (int)(Math.random()*this.sectors);\n",
    "        if(this.currentRun == 0)\n",
    "        {\n",
    "            currentRun++;\n",
    "            this.previousNumber = number;\n",
    "        }\n",
    "        else if(number == this.previousNumber)\n",
    "        {\n",
    "            currentRun++;\n",
    "        }\n",
    "        else\n",
    "        {\n",
    "            currentRun = 1;\n",
    "            this.previousNumber = number;\n",
    "        }\n",
    "        System.out.println(\"Spin result: \" + number);\n",
    "        return number;\n",
    "    }\n",
    "}\n",
    "GameSpinner g = new GameSpinner(4);\n",
    "g.currentRun();\n",
    "g.spin();\n",
    "g.currentRun();\n",
    "g.spin();\n",
    "g.currentRun();\n",
    "g.spin();\n",
    "g.currentRun();\n",
    "g.spin();\n",
    "g.currentRun();\n",
    "g.spin();\n",
    "g.currentRun();"
   ]
  }
 ],
 "metadata": {
  "kernelspec": {
   "display_name": "Java",
   "language": "java",
   "name": "java"
  },
  "language_info": {
   "codemirror_mode": "java",
   "file_extension": ".jshell",
   "mimetype": "text/x-java-source",
   "name": "java",
   "pygments_lexer": "java",
   "version": "17.0.14+7-Ubuntu-122.04.1"
  }
 },
 "nbformat": 4,
 "nbformat_minor": 5
}
