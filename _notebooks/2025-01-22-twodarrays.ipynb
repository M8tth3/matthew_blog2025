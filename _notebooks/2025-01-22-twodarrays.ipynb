{
 "cells": [
  {
   "cell_type": "markdown",
   "metadata": {},
   "source": [
    "---\n",
    "toc: True\n",
    "comments: True\n",
    "layout: post\n",
    "title: 2D Arrays HW\n",
    "description: Curious about peanut butter? This is the place for you.\n",
    "type: ccc\n",
    "permalink: 2darrays\n",
    "courses: { csa: {week: 0} }\n",
    "---"
   ]
  },
  {
   "cell_type": "markdown",
   "metadata": {},
   "source": []
  },
  {
   "cell_type": "markdown",
   "metadata": {},
   "source": [
    "## Popcorn Hack 1"
   ]
  },
  {
   "cell_type": "code",
   "execution_count": 11,
   "metadata": {
    "vscode": {
     "languageId": "java"
    }
   },
   "outputs": [
    {
     "name": "stdout",
     "output_type": "stream",
     "text": [
      "92\n",
      "70\n",
      "93\n",
      "100\n"
     ]
    }
   ],
   "source": [
    "// Example 2D array representing the scores\n",
    "\n",
    "int[][] scores = {\n",
    "    {100, 85, 95, 96},  \n",
    "    {98, 100, 100, 95}, \n",
    "    {92, 100, 98, 100}, \n",
    "    {100, 100, 97, 99}, \n",
    "    {100, 100, 100, 70},\n",
    "    {100, 100, 99, 98}, \n",
    "    {100, 94, 100, 93}  \n",
    "};\n",
    "\n",
    "System.out.println(scores[2][0]);\n",
    "System.out.println(scores[4][3]);\n",
    "System.out.println(scores[6][3]);\n",
    "\n",
    "scores[6][3] = 100;\n",
    "System.out.println(scores[6][3]);"
   ]
  },
  {
   "cell_type": "markdown",
   "metadata": {},
   "source": [
    "## Homework"
   ]
  },
  {
   "cell_type": "code",
   "execution_count": null,
   "metadata": {
    "vscode": {
     "languageId": "java"
    }
   },
   "outputs": [
    {
     "name": "stdout",
     "output_type": "stream",
     "text": [
      "Total Tastiness: 2\n",
      "Max Square Sum: 9\n",
      "Max Subarray Sum: 11\n"
     ]
    }
   ],
   "source": [
    "public class GrassPasture {\n",
    "    /** The 2D grid of pasture tastiness values */\n",
    "    private int[][] pastures;\n",
    "\n",
    "    /** Constructor initializes the field */\n",
    "    public GrassPasture(int[][] pastures) {\n",
    "        this.pastures = pastures;\n",
    "    }\n",
    "\n",
    "    /**\n",
    "     * Returns sum of total tastiness for all values in 2D array\n",
    "     */\n",
    "    public int getTotalGrass() {\n",
    "        int sum = 0;\n",
    "        for (int i = 0; i < pastures.length; i++) {\n",
    "            for (int j = 0; j < pastures[0].length; j++) {\n",
    "                sum += pastures[i][j];\n",
    "            }\n",
    "        }\n",
    "        return sum;\n",
    "    }\n",
    "\n",
    "    /**\n",
    "     * Returns max sum of tastiness of a square in the 2D array (square can be 1x1, 2x2, etc.)\n",
    "     */\n",
    "    public int maxSquare() {\n",
    "        int n = pastures.length;\n",
    "        int m = pastures[0].length;\n",
    "        int maxSum = Integer.MIN_VALUE;\n",
    "    \n",
    "        for (int size = 1; size <= Math.min(n, m); size++) { /\n",
    "            for (int i = 0; i <= n - size; i++) {\n",
    "                for (int j = 0; j <= m - size; j++) {\n",
    "                    int sum = 0;\n",
    "                    for (int x = 0; x < size; x++) {\n",
    "                        for (int y = 0; y < size; y++) {\n",
    "                            sum += pastures[i + x][j + y];\n",
    "                        }\n",
    "                    }\n",
    "                    maxSum = Math.max(maxSum, sum);\n",
    "                }\n",
    "            }\n",
    "        }\n",
    "        return maxSum;\n",
    "    }\n",
    "    \n",
    "\n",
    "    /**\n",
    "     * Returns the maximum tastiness sum subarray in the flattened 2D grid\n",
    "     */\n",
    "    public int maxSubarraySum() {\n",
    "        int n = pastures.length;\n",
    "        int m = pastures[0].length;\n",
    "        int maxSum = Integer.MIN_VALUE;\n",
    "\n",
    "        int[] flattened = new int[n * m];\n",
    "        int index = 0;\n",
    "        for (int i = 0; i < n; i++) {\n",
    "            for (int j = 0; j < m; j++) {\n",
    "                flattened[index++] = pastures[i][j];\n",
    "            }\n",
    "        }\n",
    "\n",
    "        int currentMax = 0;\n",
    "        for (int num : flattened) {\n",
    "            currentMax = Math.max(num, currentMax + num);\n",
    "            maxSum = Math.max(maxSum, currentMax);\n",
    "        }\n",
    "\n",
    "        return maxSum;\n",
    "    }\n",
    "}\n",
    "\n",
    "\n",
    "public static void main(String[] args) {\n",
    "    int[][] pastures = {\n",
    "        {-3, 6, -1},\n",
    "        {2, -1, 5},\n",
    "        {-9, 4, -1}\n",
    "    };\n",
    "\n",
    "    GrassPasture gp = new GrassPasture(pastures);\n",
    "\n",
    "    System.out.println(\"Total Tastiness: \" + gp.getTotalGrass()); // Expected: -2\n",
    "    System.out.println(\"Max Square Sum: \" + gp.maxSquare()); // Expected: 9\n",
    "    System.out.println(\"Max Subarray Sum: \" + gp.maxSubarraySum()); // Expected: 11\n",
    "}\n",
    "main();\n",
    "\n",
    "// If you are interested in the extra credit, you can answer below:\n",
    "\n",
    "//Time complexity of maxSubarraySum is O(n x m). Flattening the array we iterate once through all the elements yk and then store it in a 1D array -> O(nxm). Finding the max subarray sum iterates thru that array once (nxm elements) overall time complexity: O(nxm)"
   ]
  }
 ],
 "metadata": {
  "kernelspec": {
   "display_name": "Java",
   "language": "java",
   "name": "java"
  },
  "language_info": {
   "codemirror_mode": "java",
   "file_extension": ".jshell",
   "mimetype": "text/x-java-source",
   "name": "Java",
   "pygments_lexer": "java",
   "version": "17.0.13+11-Ubuntu-2ubuntu122.04"
  }
 },
 "nbformat": 4,
 "nbformat_minor": 2
}
