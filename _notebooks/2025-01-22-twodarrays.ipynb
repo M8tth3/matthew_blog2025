{
 "cells": [
  {
   "cell_type": "markdown",
   "metadata": {},
   "source": [
    "---\n",
    "toc: True\n",
    "comments: True\n",
    "layout: post\n",
    "title: 2D Arrays HW\n",
    "description: Curious about peanut butter? This is the place for you.\n",
    "type: ccc\n",
    "permalink: 2darrays\n",
    "courses: { csa: {week: 0} }\n",
    "---"
   ]
  },
  {
   "cell_type": "markdown",
   "metadata": {},
   "source": [
    "## Popcorn Hack 1"
   ]
  },
  {
   "cell_type": "code",
   "execution_count": 11,
   "metadata": {},
   "outputs": [
    {
     "name": "stdout",
     "output_type": "stream",
     "text": [
      "92\n",
      "70\n",
      "93\n",
      "100\n"
     ]
    }
   ],
   "source": [
    "// Example 2D array representing the scores\n",
    "\n",
    "int[][] scores = {\n",
    "    {100, 85, 95, 96},  \n",
    "    {98, 100, 100, 95}, \n",
    "    {92, 100, 98, 100}, \n",
    "    {100, 100, 97, 99}, \n",
    "    {100, 100, 100, 70},\n",
    "    {100, 100, 99, 98}, \n",
    "    {100, 94, 100, 93}  \n",
    "};\n",
    "\n",
    "System.out.println(scores[2][0]);\n",
    "System.out.println(scores[4][3]);\n",
    "System.out.println(scores[6][3]);\n",
    "\n",
    "scores[6][3] = 100;\n",
    "System.out.println(scores[6][3]);"
   ]
  },
  {
   "cell_type": "markdown",
   "metadata": {},
   "source": [
    "## Homework"
   ]
  },
  {
   "cell_type": "code",
   "execution_count": 12,
   "metadata": {},
   "outputs": [],
   "source": []
  }
 ],
 "metadata": {
  "kernelspec": {
   "display_name": "Java",
   "language": "java",
   "name": "java"
  },
  "language_info": {
   "codemirror_mode": "java",
   "file_extension": ".jshell",
   "mimetype": "text/x-java-source",
   "name": "java",
   "pygments_lexer": "java",
   "version": "17.0.13+11-Ubuntu-2ubuntu122.04"
  }
 },
 "nbformat": 4,
 "nbformat_minor": 2
}
