{
 "cells": [
  {
   "cell_type": "markdown",
   "id": "6c054c2f",
   "metadata": {},
   "source": [
    "---\n",
    "toc: True\n",
    "comments: True\n",
    "layout: post\n",
    "title: Master AP CSA Review\n",
    "description: \n",
    "type: ccc\n",
    "permalink: csareview\n",
    "menu: nav/sprint_recap.html\n",
    "courses: { csa: {week: 0} }\n",
    "---"
   ]
  },
  {
   "cell_type": "markdown",
   "id": "c89822a8",
   "metadata": {},
   "source": [
    "## Four Types of FRQ\n",
    "- Q1. Methods and Control Structures - Students will be asked to write program code to ccreate objects of a class and call methods, and satisfy method specifications using expressions, conditional statements, and iterative statements\n",
    "- Q2. Classes - Students will be asked to write program code to define a new type by creating a class and satisfy method specifications using expressions, conditional statements, and iterative statements.\n",
    "- Q3. Array/ArrayList - Students willb e asked to write program code to satisfy method specifications using expressions, conditional statements, and iterative statements and create,t raverse, and manipulate elements in 1D array or ArrayList objects.\n",
    "- Q4. 2D Array - Students will be asked to write program code to satisfy method specifications using expressions, conditional statements, and iterative statemetns and create,, traverse, and manipulate elements in 2D array objects."
   ]
  },
  {
   "cell_type": "markdown",
   "id": "a5af7500",
   "metadata": {},
   "source": [
    "## Overall Weaknesses\n",
    "- FRQ is feeling much stronger after practicing, and I have definitely improved when it comes to the 2D arrays FRQ question. However, I think I need the most practice with the second FRQ question on Array"
   ]
  },
  {
   "cell_type": "markdown",
   "id": "b9284d69",
   "metadata": {},
   "source": [
    "## Important Notes to Remember\n",
    "- Iteration\n",
    "- 2d-arrays\n",
    "    - iterating through rows has the [] and iterating through columns doesnt\n",
    "ex:\n",
    "\n",
    "- **super** key word\n",
    "### Recursion\n",
    "\n",
    "[Lesson](https://nighthawkcoders.github.io/portfolio_2025/recursion/p3_recursion_part1)\n",
    "- **Recursive Method**: A method that calls itself\n",
    "- [Very visual example of recursion](https://www.youtube.com/watch?v=3K3MMtoG8rY)\n",
    "- **Base Case**: A base case is the condition that breaks the recursive function\n",
    "- **Infinite Recursion**: Recursions that go on infinitely\n",
    "```java\n",
    "public static void infRecur(int n)\n",
    "{\n",
    "    System.out.println(n);\n",
    "    \n",
    "    if (n>2) {\n",
    "        simpleRecur2 (n+1); \n",
    "    }\n",
    "}\n",
    "```\n",
    "![example table](https://github.com/user-attachments/assets/2b40083d-5b00-4b3d-971a-3a86b5141afb)\n",
    "- **Non void methods**: Recursive methods that return a value"
   ]
  },
  {
   "cell_type": "markdown",
   "id": "c0d28a81",
   "metadata": {},
   "source": [
    "## Two Week Study Plan for CSA"
   ]
  }
 ],
 "metadata": {
  "kernelspec": {
   "display_name": "Java",
   "language": "java",
   "name": "java"
  },
  "language_info": {
   "codemirror_mode": "java",
   "file_extension": ".jshell",
   "mimetype": "text/x-java-source",
   "name": "Java",
   "pygments_lexer": "java",
   "version": "17.0.14+7-Ubuntu-122.04.1"
  }
 },
 "nbformat": 4,
 "nbformat_minor": 5
}
