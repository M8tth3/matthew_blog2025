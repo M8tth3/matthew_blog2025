{
 "cells": [
  {
   "cell_type": "markdown",
   "id": "6c054c2f",
   "metadata": {},
   "source": [
    "---\n",
    "toc: True\n",
    "comments: True\n",
    "layout: post\n",
    "title: Master AP CSA Review\n",
    "description: \n",
    "type: ccc\n",
    "permalink: csareview\n",
    "menu: nav/sprint_recap.html\n",
    "courses: { csa: {week: 0} }\n",
    "---"
   ]
  },
  {
   "cell_type": "markdown",
   "id": "c89822a8",
   "metadata": {},
   "source": [
    "## Four Types of FRQ\n",
    "- Q1. Methods and Control Structures - Students will be asked to write program code to ccreate objects of a class and call methods, and satisfy method specifications using expressions, conditional statements, and iterative statements\n",
    "- Q2. Classes - Students will be asked to write program code to define a new type by creating a class and satisfy method specifications using expressions, conditional statements, and iterative statements.\n",
    "- Q3. Array/ArrayList - Students willb e asked to write program code to satisfy method specifications using expressions, conditional statements, and iterative statements and create,t raverse, and manipulate elements in 1D array or ArrayList objects.\n",
    "- Q4. 2D Array - Students will be asked to write program code to satisfy method specifications using expressions, conditional statements, and iterative statemetns and create,, traverse, and manipulate elements in 2D array objects."
   ]
  },
  {
   "cell_type": "markdown",
   "id": "1a9cd3da",
   "metadata": {},
   "source": [
    "## 2014 FRQ"
   ]
  },
  {
   "cell_type": "code",
   "execution_count": null,
   "id": "df4afa2d",
   "metadata": {
    "vscode": {
     "languageId": "java"
    }
   },
   "outputs": [],
   "source": [
    "import java.util.Arrays;\n",
    "\n",
    "// Write static method arraysum that calculates and returns the sum of the entires in a specified one-dimentional array. The following example shows an array arr1 and the value returned by a call to arraySum\n",
    "\n",
    "public static int arraySum(int[]arr)\n",
    "{\n",
    "    int sum = 0;\n",
    "    for(int i  = 0; i < arr.length; i++)\n",
    "    {\n",
    "        sum += arr[i];\n",
    "    }\n",
    "    return sum;\n",
    "}\n",
    "\n",
    "// Write a static method rowSums that calculate sth esums of each of the rows in a given two-dimensional array and returns these sums in a one-dimensional array. The emthod has one parameter, a two-dimensional array arr2D of int values. The array is in row-major order: arr2D[r][c] is the entry at row r and column c. The method returns a one-dimensional array with one entry for each row of arr2D such that each entry is the sum of the corresponding row in arr2D. As a reminder, each row of a two-dimensional array is a one-dimensional array.\n",
    "public static int[] rowSums(int[][] arr2D)\n",
    "{\n",
    "    int[] sums = new int[arr2D.length];\n",
    "    for(int i = 0; i < arr2D.length; i++)\n",
    "    {\n",
    "        for(int k: arr2D[i])\n",
    "        {\n",
    "            sums[i] += k;\n",
    "        }\n",
    "    }\n",
    "    return sums;\n",
    "}\n",
    "\n",
    "// A two-dimensional array is diverse if no two of its rows have entries that sum ot hte same value. In the followign examples, the array mat1 is diverse because each row sum is different, but the array mat2 is not diverse because the first and last rows and the same sum.\n",
    "public static boolean isDiverse(int[][] arr2D)\n",
    "{\n",
    "    int[] sums = rowSums(arr2D);\n",
    "    Arrays.sort(sums);\n",
    "    for(int i = 0; i < sums.length - 1; i++)\n",
    "    {\n",
    "        if(sums[i] == sums[i + 1])\n",
    "        {\n",
    "            return false;\n",
    "        }\n",
    "    }\n",
    "    return true;\n",
    "}"
   ]
  },
  {
   "cell_type": "code",
   "execution_count": null,
   "id": "d1c05583",
   "metadata": {
    "vscode": {
     "languageId": "java"
    }
   },
   "outputs": [],
   "source": [
    "// Write the complete hidden Word class, including any necessary instance variables, its constructor and the method, getHint described above. You may assume that the length of the guess is the same as the length of the hidden word.AbstractCollection\n",
    "public class HiddenWord{\n",
    "    private String hiddenWord;\n",
    "    private String guess;\n",
    "\n",
    "    public HiddenWord(String hiddenWord, String guess)\n",
    "    {\n",
    "        this.hiddenWord = hiddenWord;\n",
    "        this.guess = guess;\n",
    "    }\n",
    "\n",
    "    public String getHint()\n",
    "    {\n",
    "        String hint = \"\";\n",
    "        for(int i = 0; i < hiddenWord.length(); i++)\n",
    "        {\n",
    "            if(hiddenWord.charAt(i) == guess.charAt(i))\n",
    "            {\n",
    "                hint += hiddenWord.charAt(i);\n",
    "                //charAt function + the .contains function\n",
    "            }\n",
    "            else if(hiddenWord.contains(guess.charAt(i)))\n",
    "            {\n",
    "                hint += \"+\";\n",
    "            }\n",
    "            else\n",
    "            {\n",
    "                hint += \"-\";\n",
    "            }\n",
    "        }\n",
    "        return hint;\n",
    "    }\n",
    "}"
   ]
  },
  {
   "cell_type": "code",
   "execution_count": null,
   "id": "990b9c4a",
   "metadata": {
    "vscode": {
     "languageId": "java"
    }
   },
   "outputs": [],
   "source": [
    "// Write the Sparse Array method getValue At. The method returns the value fo the sparse array element at a given row and column in the sparse array element at a given row and column in the sparse array. if the list entries contains an etry with the specified row and column the value associated with the entry is returned. if there is no entry in entries corresponding to the specified row and column, 0 is returned. in the example above, the call sparse.getValueAt(3,1) would return -9, and sparse.getValueAt(3,3) would return 0.AbstractExecutorService\n",
    "\n",
    "public class SparseArray{\n",
    "    private List<Entry> entries;\n",
    "\n",
    "    public SparseArray()\n",
    "    {\n",
    "        entries = new ArrayList<>();\n",
    "    }\n",
    "\n",
    "    public void addEntry(int row, int col, int value)\n",
    "    {\n",
    "        entries.add(new Entry(row, col, value));\n",
    "    }\n",
    "\n",
    "    public int getValueAt(int row, int col)\n",
    "    {\n",
    "        for(Entry entry : entries)\n",
    "        {\n",
    "            if(entry.getRow() == row && entry.getCol() == col)\n",
    "            {\n",
    "                return entry.getValue();\n",
    "            }\n",
    "        }\n",
    "        return 0;\n",
    "    }\n",
    "}\n",
    "// Corrections:\n",
    "// 1. The `Entry` class is not defined in the provided code. It should be defined with appropriate fields and methods (getRow, getCol, getValue).\n",
    "// 2. The `entries` list should be initialized with the correct type `List<Entry>`.\n",
    "// 3. Ensure proper imports for `List` and `ArrayList`.\n",
    "\n",
    "// Takeaways:\n",
    "// - Always define and include all necessary classes (like `Entry`) when working with custom data structures.\n",
    "// - Use appropriate data structures (like `List`) to store and manage collections of objects.\n",
    "// - Implement methods carefully to handle edge cases, such as when no matching entry is found in the sparse array.\n",
    "\n",
    "//Write the SparseArray method removeColumn. After removing a specified column from a sparse array:\n",
    "public void removeColumn(int col)\n",
    "{\n",
    "    for(Entry entry : entries)\n",
    "    {\n",
    "        if(entry.getCol() == col)\n",
    "        {\n",
    "            entries.remove(entry);\n",
    "        }\n",
    "        else if(entry.getCol() > col)\n",
    "        {\n",
    "            entry.setCol(entry.getCol() - 1);\n",
    "        }\n",
    "    }\n",
    "}"
   ]
  },
  {
   "cell_type": "code",
   "execution_count": null,
   "id": "3b9c26f5",
   "metadata": {
    "vscode": {
     "languageId": "java"
    }
   },
   "outputs": [],
   "source": [
    "// A number group represents a group of integers defined in some way. it could be epty or contain one or more integers.AbstractCollection Write an interface named NumberGroup that represents a group of integers. The interface should have a single contains method that determines if a given integer is in the group. For example, if group1 is of type NubmerGroup, and it contains only the two numbers -5 and 3, then group1.contains(-5) would return true, and group1.contains(2) would return false.AbstractCollection. Write"
   ]
  },
  {
   "cell_type": "markdown",
   "id": "a5af7500",
   "metadata": {},
   "source": [
    "## Overall Weaknesses\n",
    "- FRQ is feeling much stronger after practicing, and I have definitely improved when it comes to the 2D arrays FRQ question. However, "
   ]
  },
  {
   "cell_type": "markdown",
   "id": "b9284d69",
   "metadata": {},
   "source": [
    "## Important Notes to Remember\n",
    "- Iteration\n",
    "- 2d-arrays\n",
    "    - iterating through rows has the [] and iterating through columns doesnt\n",
    "ex:\n",
    "\n",
    "- **super** key word\n",
    "### Recursion\n",
    "\n",
    "[Lesson](https://nighthawkcoders.github.io/portfolio_2025/recursion/p3_recursion_part1)\n",
    "- **Recursive Method**: A method that calls itself\n",
    "- [Very visual example of recursion](https://www.youtube.com/watch?v=3K3MMtoG8rY)\n",
    "- **Base Case**: A base case is the condition that breaks the recursive function\n",
    "- **Infinite Recursion**: Recursions that go on infinitely\n",
    "```java\n",
    "public static void infRecur(int n)\n",
    "{\n",
    "    System.out.println(n);\n",
    "    \n",
    "    if (n>2) {\n",
    "        simpleRecur2 (n+1); \n",
    "    }\n",
    "}\n",
    "```\n",
    "![example table](https://github.com/user-attachments/assets/2b40083d-5b00-4b3d-971a-3a86b5141afb)\n",
    "- **Non void methods**: Recursive methods that return a value"
   ]
  },
  {
   "cell_type": "markdown",
   "id": "c0d28a81",
   "metadata": {},
   "source": [
    "## Two Week Study Plan for CSA"
   ]
  }
 ],
 "metadata": {
  "kernelspec": {
   "display_name": "Java",
   "language": "java",
   "name": "java"
  },
  "language_info": {
   "codemirror_mode": "java",
   "file_extension": ".jshell",
   "mimetype": "text/x-java-source",
   "name": "Java",
   "pygments_lexer": "java",
   "version": "17.0.14+7-Ubuntu-122.04.1"
  }
 },
 "nbformat": 4,
 "nbformat_minor": 5
}
