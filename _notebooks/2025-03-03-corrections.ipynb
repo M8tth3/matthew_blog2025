{
 "cells": [
  {
   "cell_type": "raw",
   "metadata": {
    "vscode": {
     "languageId": "raw"
    }
   },
   "source": [
    "---\n",
    "toc: True\n",
    "comments: True\n",
    "layout: post\n",
    "title: FRQs + MC Corrections\n",
    "description: Curious about peanut butter? This is the place for you.\n",
    "type: ccc\n",
    "permalink: frqandcorrections\n",
    "courses: { csa: {week: 0} }\n",
    "---"
   ]
  },
  {
   "cell_type": "markdown",
   "metadata": {},
   "source": [
    "## Score Breakdown\n",
    "\n",
    "<img src=\"https://github.com/user-attachments/assets/ac5652f7-ba70-472b-b6c6-e4b6298957a3\" width=\"800px\" height=\"auto\">\n",
    "\n",
    "<img src=\"https://github.com/user-attachments/assets/a4fca6c4-dd1f-4e4c-9b48-2ae132399147\" width=\"800px\" height=\"auto\">\n",
    "\n",
    "### Last MC\n",
    "<img src=\"https://github.com/user-attachments/assets/00b8397b-5bc1-4d9a-85fe-58773d37d31e\" width=\"800px\" height=\"auto\">\n"
   ]
  },
  {
   "cell_type": "markdown",
   "metadata": {},
   "source": [
    "## MC Corrections"
   ]
  },
  {
   "cell_type": "markdown",
   "metadata": {},
   "source": [
    "### Q16 Calculate Method with 2D int array parameter\n",
    "\n",
    "<img src=\"https://github.com/user-attachments/assets/df6bd7f4-a4f0-4a4a-b8bd-d678587dc523\" width=\"800px\" height=\"auto\">\n",
    "\n",
    "- I didn't realize that the for loops were actually iterating through content in each of the rows. I initially thought that it was iterating through each column and then going to the value in each column row-by-row. So it wasn't returning the row index with the largest value, it was returning the column index with the largest value in the 2D array. In the future I'm going to make it a point ensure that I'm careful about whether the for loops are iterating through columns vs rows. "
   ]
  },
  {
   "cell_type": "markdown",
   "metadata": {},
   "source": [
    "### Q24 Adding overloaded method one to SomeClass\n",
    "\n",
    "<img src=\"https://github.com/user-attachments/assets/deda96b3-25dd-4bb2-bbfa-e29592b51763\" width=\"800px\" height=\"auto\">\n",
    "\n",
    "- Silly mistake. I didn't realize that when you create a method with the same number/type of parameters, there is an error that is thrown. Which is why, the options II and III would be the only valid options since those are the only methods with the same name that have different parameters. "
   ]
  },
  {
   "cell_type": "markdown",
   "metadata": {},
   "source": [
    "### Q26 Methods start and changeIt with aliases\n",
    "\n",
    "<img src=\"https://github.com/user-attachments/assets/61984878-8b0a-41d0-a4f9-10ff996ea13b\" width=\"800px\" height=\"auto\">\n",
    "\n",
    "- This question annoyed be, because even though the function is run. I didn't realize that the actual values being passed into the parameters of the function were not being reassigned. So, since the changeIt function doesn't actually change the value of the variables, the output would just be \"1 2 3 4 5 6 blackboard.\""
   ]
  },
  {
   "cell_type": "markdown",
   "metadata": {},
   "source": [
    "### Q28 Sorting 1D int array statement count\n",
    "\n",
    "<img src=\"https://github.com/user-attachments/assets/f5286664-1f76-4a49-81c7-968efc911358\" width=\"800px\" height=\"auto\">\n",
    "\n",
    "- Misinterpreted the loops. The outer loop iterates one fewer time than I thought So the actual 'compare values' line would end up being 5+4+3+2+1 or 15 times instead of 21 like I initially thought. Paying attention to the smaller details like "
   ]
  },
  {
   "cell_type": "markdown",
   "metadata": {},
   "source": [
    "### Q34 listOfWords List and wordsWithCommas method\n",
    "\n",
    "<img src=\"https://github.com/user-attachments/assets/6f46f7d3-992c-47a0-854b-4ab37edb0bd3\" width=\"800px\" height=\"auto\">\n",
    "\n",
    "- Again I didn't carefully pay attention too the operator in the if statement and think about how that affects listOfWords.Size(). Since the operator is a less than instead of a less than or equal to operator, the \"-1\" isn't necessary. So, just having the sizeOfList equal to the listOfWords.size() would still allow the loop to iterate through the entire array without throwing an out of bounds error."
   ]
  },
  {
   "cell_type": "markdown",
   "metadata": {},
   "source": [
    "### Q37 concatWords method with String array\n",
    "\n",
    "<img src=\"https://github.com/user-attachments/assets/1cb609e1-6ada-4a9d-bed7-37fcdca30561\" width=\"800px\" height=\"auto\">\n",
    "\n",
    "- Though I correctly determined that option two would work for adding concatenating the words in the array in a reverse order, I did not realize that option three also works. The loop starts at the beginning of the temp array, and adds each element to the result until the element reaches the startIndex, which  causes the elements to be added in a reverse order."
   ]
  },
  {
   "cell_type": "markdown",
   "metadata": {},
   "source": [
    "## Overall Thoughts About MC\n",
    "\n",
    "- Overall, I am super happy about the improvement since the last MC. However, there is still room to grow, especially about being more careful when it comes to tracking the operators in loops--which were in abundance for this MC and being careful about retrieving values in a 2D array. Also, for some issues, even when I correctly identified a working solution, I missed alternative approaches--luckily the category breakdown for the college board quiz shows me exactly what I need to work on for the AP exam."
   ]
  },
  {
   "cell_type": "markdown",
   "metadata": {},
   "source": [
    "## FRQ"
   ]
  },
  {
   "cell_type": "markdown",
   "metadata": {},
   "source": [
    "## 1a Write a static method arraySum that calculates and returns the sum of the entries in a specified one-dimensional array. the following example shows an array arr1 and the value returned by a call to arraySum.\n"
   ]
  },
  {
   "cell_type": "code",
   "execution_count": null,
   "metadata": {},
   "outputs": [],
   "source": [
    "public static int arraySum(int[] arr)\n",
    "{\n",
    "    int sum = 0;\n",
    "    for(int i: arr)\n",
    "    {\n",
    "        sum += elem;\n",
    "    }\n",
    "    return sum;\n",
    "}"
   ]
  }
 ],
 "metadata": {
  "kernelspec": {
   "display_name": "Java",
   "language": "java",
   "name": "java"
  },
  "language_info": {
   "name": "java"
  }
 },
 "nbformat": 4,
 "nbformat_minor": 2
}
