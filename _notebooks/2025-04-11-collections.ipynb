{
 "cells": [
  {
   "cell_type": "markdown",
   "id": "d3f2e08c",
   "metadata": {},
   "source": [
    "---\n",
    "toc: True\n",
    "comments: True\n",
    "layout: post\n",
    "title: Collections HW\n",
    "description: \n",
    "type: ccc\n",
    "permalink: collections\n",
    "courses: { csa: {week: 0} }\n",
    "---"
   ]
  },
  {
   "cell_type": "markdown",
   "id": "8dde5141",
   "metadata": {},
   "source": [
    "## Popcorn Hack 1"
   ]
  },
  {
   "cell_type": "code",
   "execution_count": 5,
   "id": "c03d702e",
   "metadata": {},
   "outputs": [
    {
     "name": "stdout",
     "output_type": "stream",
     "text": [
      "Even numbers: [0, 2, 4, 6, 8]\n",
      "Odd numbers: [1, 3, 5, 7, 9]\n"
     ]
    }
   ],
   "source": [
    "import java.util.ArrayList;\n",
    "import java.util.Collections;\n",
    "import java.util.List;\n",
    "import java.util.stream.Collectors;\n",
    "\n",
    "public class ListExperiment {\n",
    "    public static void main(String[] args) {\n",
    "        // create your array list\n",
    "        List<Integer> numbers = new ArrayList<>();\n",
    "        // add 10 integers\n",
    "        numbers.add(5);\n",
    "        numbers.add(2);\n",
    "        numbers.add(8);\n",
    "        numbers.add(1);\n",
    "        numbers.add(4);\n",
    "        numbers.add(9);\n",
    "        numbers.add(3);\n",
    "        numbers.add(7);\n",
    "        numbers.add(6);\n",
    "        numbers.add(0);\n",
    "        // sort your list\n",
    "        Collections.sort(numbers);\n",
    "        // filter using even numbers and print\n",
    "        List<Integer> evenNumbers = numbers.stream()\n",
    "                .filter(n -> n % 2 == 0)\n",
    "                .collect(Collectors.toList());\n",
    "        System.out.println(\"Even numbers: \" + evenNumbers);\n",
    "        List<Integer> oddNumbers = numbers.stream()\n",
    "                .filter(n -> n % 2 != 0)\n",
    "                .collect(Collectors.toList());\n",
    "        System.out.println(\"Odd numbers: \" + oddNumbers);\n",
    "    }\n",
    "}\n",
    "\n",
    "ListExperiment.main(null)"
   ]
  },
  {
   "cell_type": "markdown",
   "id": "52ae8eb9",
   "metadata": {},
   "source": [
    "## Popcorn Hack 2"
   ]
  },
  {
   "cell_type": "code",
   "execution_count": 7,
   "id": "689e1eea",
   "metadata": {},
   "outputs": [
    {
     "name": "stdout",
     "output_type": "stream",
     "text": [
      "Nikhil\n",
      "Phone number: 858-222-3333\n"
     ]
    }
   ],
   "source": [
    "import java.util.HashMap;\n",
    "import java.util.Map;\n",
    "import java.util.Scanner;\n",
    "public class HashMapThing {\n",
    "    public static void main(String[] args)\n",
    "    {\n",
    "        Map<String, String> map = new HashMap<>();\n",
    "        map.put(\"Srijan\", \"858-111-2222\");\n",
    "        map.put(\"Nikhil\", \"858-222-3333\");\n",
    "        map.put(\"Saurabh\", \"858-333-4444\");\n",
    "        map.put(\"Jaquarius\", \"858-444-5555\");\n",
    "        map.put(\"Aashray\", \"858-555-6666\");\n",
    "        \n",
    "        Scanner scanner = new Scanner(System.in);\n",
    "        String name = scanner.nextLine();\n",
    "\n",
    "        if (map.containsKey(name)) {\n",
    "            System.out.println(name);\n",
    "            System.out.println(\"Phone number: \" + map.get(name));\n",
    "        } else {\n",
    "            System.out.println(\"Name not found in the map.\");\n",
    "        }\n",
    "        scanner.close();\n",
    "    }\n",
    "}\n",
    "\n",
    "HashMapThing.main(null)"
   ]
  },
  {
   "cell_type": "markdown",
   "id": "8d87d5f4",
   "metadata": {},
   "source": [
    "## Popcorn Hack 3"
   ]
  },
  {
   "cell_type": "code",
   "execution_count": 9,
   "id": "a2fc110c",
   "metadata": {},
   "outputs": [
    {
     "name": "stdout",
     "output_type": "stream",
     "text": [
      "[Third, First, Second, Fourth]\n",
      "[First, Second]\n"
     ]
    }
   ],
   "source": [
    "import java.util.ArrayDeque;\n",
    "import java.util.Deque;\n",
    "\n",
    "public class DequeExperiment {\n",
    "    public static void main(String[] args) {\n",
    "        Deque<String> deque = new ArrayDeque<>();\n",
    "        deque.addFirst(\"First\");\n",
    "        deque.addLast(\"Second\");\n",
    "        deque.addFirst(\"Third\");\n",
    "        deque.addLast(\"Fourth\");\n",
    "\n",
    "        System.out.println(deque);\n",
    "        deque.removeFirst();\n",
    "        deque.removeLast();\n",
    "        System.out.println(deque);\n",
    "    }\n",
    "}\n",
    "\n",
    "DequeExperiment.main(null);"
   ]
  },
  {
   "cell_type": "code",
   "execution_count": 5,
   "id": "896c2211",
   "metadata": {},
   "outputs": [
    {
     "name": "stdout",
     "output_type": "stream",
     "text": [
      "9\n",
      "8\n",
      "7\n",
      "6\n",
      "5\n",
      "4\n",
      "3\n",
      "2\n",
      "1\n",
      "0\n"
     ]
    }
   ],
   "source": [
    "int num = 10;\n",
    "while (num >=1)\n",
    "{\n",
    "    num--;\n",
    "    System.out.println(num);\n",
    "}"
   ]
  },
  {
   "cell_type": "code",
   "execution_count": null,
   "id": "317dc9a0",
   "metadata": {},
   "outputs": [
    {
     "name": "stdout",
     "output_type": "stream",
     "text": [
      "*\n",
      "**\n",
      "***\n",
      "****\n",
      "*****\n"
     ]
    }
   ],
   "source": [
    "public static int countPeaks(int[] data)\n"
   ]
  }
 ],
 "metadata": {
  "kernelspec": {
   "display_name": "Java",
   "language": "java",
   "name": "java"
  },
  "language_info": {
   "codemirror_mode": "java",
   "file_extension": ".jshell",
   "mimetype": "text/x-java-source",
   "name": "java",
   "pygments_lexer": "java",
   "version": "17.0.14+7-Ubuntu-122.04.1"
  }
 },
 "nbformat": 4,
 "nbformat_minor": 5
}
