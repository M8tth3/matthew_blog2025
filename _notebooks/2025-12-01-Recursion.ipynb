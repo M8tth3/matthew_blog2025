{
 "cells": [
  {
   "cell_type": "markdown",
   "metadata": {},
   "source": [
    "---\n",
    "toc: True\n",
    "comments: True\n",
    "layout: post\n",
    "title: Recursion HW\n",
    "description: Curious about peanut butter? This is the place for you.\n",
    "type: ccc\n",
    "permalink: recursion\n",
    "courses: { csa: {week: 0} }\n",
    "---"
   ]
  },
  {
   "cell_type": "markdown",
   "metadata": {},
   "source": [
    "## Popcorn Hack 1 - Factorial\n",
    "\n",
    "Factorials are a common technique which may be easy to implement using recursion. This is due to their repetitive nature in terms of multiplication. Please complete the factorial method below. The comments in the code may help you out a bit. "
   ]
  },
  {
   "cell_type": "code",
   "execution_count": 5,
   "metadata": {},
   "outputs": [
    {
     "name": "stdout",
     "output_type": "stream",
     "text": [
      "5\n",
      "4\n",
      "3\n",
      "2\n",
      "1\n"
     ]
    },
    {
     "data": {
      "text/plain": [
       "120"
      ]
     },
     "execution_count": 5,
     "metadata": {},
     "output_type": "execute_result"
    }
   ],
   "source": [
    "// 5! = 5\n",
    "\n",
    "public static int factorial(int target)\n",
    "{\n",
    "    System.out.println(target);\n",
    "    if (target == 0 || target == 1)\n",
    "    {\n",
    "        return 1;\n",
    "    };\n",
    "    return target * factorial(target -1);\n",
    "}\n",
    "factorial(5)"
   ]
  },
  {
   "cell_type": "markdown",
   "metadata": {},
   "source": [
    "## Popcorn Hack 2 - Recurse Through an Arrays\n",
    "// Pro tip: Think of why the index is stored as a parameter\n",
    "// What are parameters usually used as"
   ]
  },
  {
   "cell_type": "code",
   "execution_count": 17,
   "metadata": {},
   "outputs": [
    {
     "name": "stdout",
     "output_type": "stream",
     "text": [
      "1\n",
      "2\n",
      "3\n",
      "4\n",
      "8\n",
      "10\n"
     ]
    },
    {
     "data": {
      "text/plain": [
       "0"
      ]
     },
     "execution_count": 17,
     "metadata": {},
     "output_type": "execute_result"
    }
   ],
   "source": [
    "public static int sumArray(int[] arr, int index)\n",
    "{\n",
    "    if (index >= arr.length)\n",
    "    {\n",
    "        return 0;\n",
    "    }\n",
    "    System.out.println(arr[index]);\n",
    "    return sumArray(arr, index+1);\n",
    "};\n",
    "\n",
    "int[] arr = {1, 2, 3, 4, 8, 10};\n",
    "sumArray(arr, 0)"
   ]
  },
  {
   "cell_type": "markdown",
   "metadata": {},
   "source": [
    "## Popcorn Hack 3 - Selection sort\n",
    "\n",
    "Use your knowledge of local variables, global variables, and parameters, please create a recursive method which sorts an array through selection"
   ]
  },
  {
   "cell_type": "code",
   "execution_count": 1,
   "metadata": {},
   "outputs": [
    {
     "name": "stdout",
     "output_type": "stream",
     "text": [
      "[1, 1, 2, 3, 4, 5, 9]\n"
     ]
    }
   ],
   "source": [
    "\n",
    "public static void selectionSort(int[] arr, int start, int end) {\n",
    "    // Base case: When start reaches end, the array is sorted\n",
    "    if (start >= end) {\n",
    "        return;\n",
    "    }\n",
    "\n",
    "    int maxIndex = findMaxIndex(arr, start, end);\n",
    "\n",
    "    swap(arr, maxIndex, end);\n",
    "\n",
    "    selectionSort(arr, start, end - 1);\n",
    "}\n",
    "\n",
    "private static int findMaxIndex(int[] arr, int start, int end) {\n",
    "    int maxIndex = start;\n",
    "    for (int i = start + 1; i <= end; i++) {\n",
    "        if (arr[i] > arr[maxIndex]) {\n",
    "            maxIndex = i;\n",
    "        }\n",
    "    }\n",
    "    return maxIndex;\n",
    "}\n",
    "\n",
    "private static void swap(int[] arr, int i, int j) {\n",
    "    int temp = arr[i];\n",
    "    arr[i] = arr[j];\n",
    "    arr[j] = temp;\n",
    "}\n",
    "\n",
    "int[] arrTest = {3, 1, 4, 1, 5, 9, 2}; \n",
    "selectionSort(arrTest, 0, arrTest.length - 1); \n",
    "System.out.println(java.util.Arrays.toString(arrTest));"
   ]
  },
  {
   "cell_type": "markdown",
   "metadata": {},
   "source": [
    "## Popcorn Hack 4 - 2D Array Recursion\n",
    "\n",
    "Using your knowledge of local variables, global variables, and parameters, please create a recursive method which sorts an array through selection. Remember you have your parameters to keep indices just keep track of your indices."
   ]
  },
  {
   "cell_type": "code",
   "execution_count": 2,
   "metadata": {},
   "outputs": [
    {
     "name": "stdout",
     "output_type": "stream",
     "text": [
      "45\n"
     ]
    }
   ],
   "source": [
    "\n",
    "public static int arrayRecursionTwoD(int[][] arr, int x_index, int y_index) {\n",
    "    // Base case: When we go beyond the last row, return 0\n",
    "    if (x_index >= arr.length) {\n",
    "        return 0;\n",
    "    }\n",
    "\n",
    "    if (y_index >= arr[x_index].length) {\n",
    "        return arrayRecursionTwoD(arr, x_index + 1, 0);\n",
    "    }\n",
    "\n",
    "    return arr[x_index][y_index] + arrayRecursionTwoD(arr, x_index, y_index + 1);\n",
    "}\n",
    "\n",
    "\n",
    "// Test Case\n",
    "int[][] arrTest = {\n",
    "    {1, 2, 3},\n",
    "    {4, 5, 6},\n",
    "    {7, 8, 9}\n",
    "};\n",
    "\n",
    "System.out.println(arrayRecursionTwoD(arrTest, 0, 0));"
   ]
  },
  {
   "cell_type": "markdown",
   "metadata": {},
   "source": [
    "## Homework Hack - Recruiting Scrum Unpaid Interns for Mr.Mortensen\n",
    "\n",
    "Mr.Mortensen needs help recruiting new Scrum Unpaid f"
   ]
  },
  {
   "cell_type": "code",
   "execution_count": 3,
   "metadata": {},
   "outputs": [
    {
     "name": "stdout",
     "output_type": "stream",
     "text": [
      "Sorted Students by Performance Score:\n",
      "aadit (Performance Score: 578)\n",
      "srijus (Performance Score: 573)\n",
      "shubs (Performance Score: 556)\n",
      "erox (Performance Score: 548)\n",
      "aashray (Performance Score: 318)\n"
     ]
    }
   ],
   "source": [
    "// Pro tip: Think of why the index is stored as a parameter\n",
    "// What are parameters usually used as?\n",
    "public static class Student {\n",
    "    String name;\n",
    "    int collaboration, iq, efficiency;\n",
    "    int performanceScore;\n",
    "\n",
    "    public Student(String name, int collaboration, int iq, int efficiency) {\n",
    "        this.name = name;\n",
    "        this.collaboration = collaboration;\n",
    "        this.iq = iq;\n",
    "        this.efficiency = efficiency;\n",
    "        this.performanceScore = calculatePerformanceScore();\n",
    "    }\n",
    "\n",
    "    public int calculatePerformanceScore() {\n",
    "        return (collaboration * 2) + (iq * 3) + efficiency;\n",
    "    }\n",
    "\n",
    "    @Override\n",
    "    public String toString() {\n",
    "        return name + \" (Performance Score: \" + performanceScore + \")\";\n",
    "    }\n",
    "}\n",
    "\n",
    "Student[] students = {\n",
    "    new Student(\"srijus\", 98, 95, 92),\n",
    "    new Student(\"aadit\", 95, 97, 97),\n",
    "    new Student(\"erox\", 90, 93, 89),\n",
    "    new Student(\"shubs\", 92, 94, 90),\n",
    "    new Student(\"aashray\", 50, 53, 59)\n",
    "};\n",
    "\n",
    "Arrays.sort(students, (a, b) -> b.performanceScore - a.performanceScore);\n",
    "\n",
    "System.out.println(\"Sorted Students by Performance Score:\");\n",
    "for (Student student : students) {\n",
    "    System.out.println(student);\n",
    "}"
   ]
  }
 ],
 "metadata": {
  "kernelspec": {
   "display_name": "Java",
   "language": "java",
   "name": "java"
  },
  "language_info": {
   "codemirror_mode": "java",
   "file_extension": ".jshell",
   "mimetype": "text/x-java-source",
   "name": "java",
   "pygments_lexer": "java",
   "version": "17.0.13+11-Ubuntu-2ubuntu122.04"
  }
 },
 "nbformat": 4,
 "nbformat_minor": 2
}
