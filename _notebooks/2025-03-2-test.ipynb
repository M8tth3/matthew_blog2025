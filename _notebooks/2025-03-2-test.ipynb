{
 "cells": [
  {
   "cell_type": "code",
   "execution_count": 1,
   "metadata": {},
   "outputs": [
    {
     "name": "stdout",
     "output_type": "stream",
     "text": [
      "B"
     ]
    }
   ],
   "source": [
    "public class A\n",
    "{\n",
    "    public void show()\n",
    "    {\n",
    "        System.out.print(\"A\");\n",
    "    }\n",
    "}\n",
    "\n",
    "public class B extends A\n",
    "{\n",
    "    public void show()\n",
    "    {\n",
    "        System.out.print(\"B\");\n",
    "    }\n",
    "}\n",
    "\n",
    "A obj = new B();\n",
    "\n",
    "obj.show();"
   ]
  },
  {
   "cell_type": "code",
   "execution_count": null,
   "metadata": {},
   "outputs": [
    {
     "name": "stdout",
     "output_type": "stream",
     "text": [
      "401\n"
     ]
    }
   ],
   "source": [
    "System.out.println"
   ]
  },
  {
   "cell_type": "code",
   "execution_count": 109,
   "metadata": {},
   "outputs": [
    {
     "name": "stdout",
     "output_type": "stream",
     "text": [
      "4\n"
     ]
    }
   ],
   "source": [
    "public static int mystery(int[] nums, int v, int numVals)\n",
    "{\n",
    "    int k = 0;\n",
    "    if (v == nums[numVals -1])\n",
    "    {\n",
    "        k = 1;\n",
    "    }\n",
    "\n",
    "    if(numVals == 1)\n",
    "    {\n",
    "        return k;\n",
    "    }\n",
    "    else\n",
    "    {\n",
    "        return k + mystery(nums, v, numVals -1);\n",
    "    }\n",
    "}\n",
    "int[] nums = {1,1,1,1};\n",
    "System.out.println(mystery(nums, 1, 4));"
   ]
  }
 ],
 "metadata": {
  "kernelspec": {
   "display_name": "Java",
   "language": "java",
   "name": "java"
  },
  "language_info": {
   "codemirror_mode": "java",
   "file_extension": ".jshell",
   "mimetype": "text/x-java-source",
   "name": "java",
   "pygments_lexer": "java",
   "version": "17.0.14+7-Ubuntu-122.04.1"
  }
 },
 "nbformat": 4,
 "nbformat_minor": 2
}
