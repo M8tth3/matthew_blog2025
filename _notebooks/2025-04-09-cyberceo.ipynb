{
 "cells": [
  {
   "cell_type": "markdown",
   "id": "538d0dc4",
   "metadata": {},
   "source": [
    "---\n",
    "toc: True\n",
    "comments: True\n",
    "layout: post\n",
    "title: Cyber CEO\n",
    "description: \n",
    "type: ccc\n",
    "permalink: cyberceo\n",
    "courses: { csa: {week: 0} }\n",
    "---"
   ]
  },
  {
   "cell_type": "markdown",
   "id": "89d160a2",
   "metadata": {},
   "source": [
    "## Proof of Attendance\n",
    "\n",
    "![Image](https://github.com/user-attachments/assets/ad87df3a-581c-4419-8a50-c1dd5cda70a0)"
   ]
  },
  {
   "cell_type": "markdown",
   "id": "76361eec",
   "metadata": {},
   "source": [
    "- ## Cybersecurity Landscape (Real-World Threats)\n",
    "    \n",
    "    David Tomasz:\n",
    "    - Tracking threat hacker down\n",
    "    - Ransomware\n",
    "    - Encrypt entire network and ask for ransom to decrypt it\n",
    "    - Foreign adversary threats. China stealing billions of dollars of intellectual property. \n",
    "\n",
    "    Victor Nzeata:\n",
    "    - Powershell script to discover if old soilders had old data laying around their systems. Able to get rid of it so that adversaries couldn't use the data against them. \n",
    "    - AI can create some zero days(vulnerability with no patch). Being leveraged as a cyber attack weapon. \n",
    "    - Ethical hackers great in cybersecurity. Best insurance that when an actual hacker wants to try to break in, you are much more secured. \n",
    "    - Ethical hacker for DoD that found a lot of vulns but he also put a backdoor vulnerability so he could access it himself. <- some concerns for ethical hackers\n",
    "\n",
    "    Tricia Marcer\n",
    "    - Access control - disgruntled employee stealing company data \n",
    "    - Able to stop more data from being stolen and report individual to authorities\n",
    "    - Phishing attempts and attacks. Lots of ignorance around this area. Dangerous for data to be accessed\n",
    "    - Ethics and integrity very important when personal data and other data is concerned\n"
   ]
  },
  {
   "cell_type": "markdown",
   "id": "4a7b8cd9",
   "metadata": {},
   "source": [
    "## Career Opportunities\n",
    "\n",
    "    David Tomasz:\n",
    "        - Soft skills, being organized, leadership, getting people to like you. Super important for progressing career.\n",
    "\n",
    "    Victor:\n",
    "        - Was a software developer. Didn't find it super rewarding. Eventually took training for security class for his job and took interest in cyber security afterwards.\n",
    "        - Get backgorund in IT as foundation for IT. Need to increase basic knowledge abt computer science. Easier to draw connections\n",
    "\n",
    "    Tricia:\n",
    "        - Studied computers bc Mom said so. Professor asked her to do an annotation on a book abt computer espionage and tracking down villains.\n",
    "        - Build your own network at home. Hacking own network. Hackathons. Mentors. Internships. Learn in real world scenarios\n",
    "        - Challenges in convincing leadership to invest in security + infrastructure + software "
   ]
  },
  {
   "cell_type": "markdown",
   "id": "b34fa1bf",
   "metadata": {},
   "source": [
    "## Future of Cyber Security\n",
    "\n",
    "    David Tomasz:\n",
    "        - AI\n",
    "        - A ton of reading for classified and unclassified stuff\n",
    "        - Need a network. Need to identify people who are really good who will teach you things and help you get jobs.\n",
    "    Victor:\n",
    "        - More specialization in cyber security. Healthcare IT vs other technical IT or AI.\n",
    "        - Man's pacemaker being hacked w bluetooth\n",
    "        - Stay updated\n",
    "    Tricia:\n",
    "        - Job market going to be prioritizing cyber security\n",
    "        - Stay informed and stay curious. New stuff is coming out all of the time\n",
    "\n",
    "\n",
    "- what i got out of this\n",
    "\n",
    "cc certification IC2\n",
    "A+ and in-plus secplus \n"
   ]
  },
  {
   "cell_type": "markdown",
   "id": "b18c38b5",
   "metadata": {},
   "source": [
    "## What I got out of this\n",
    "- Importance of soft skills when it comes to your career. Not just being fully technical\n",
    "- Growing of importance of cyber security in the job market and specialization. Victor talked about a man's pacemaker being hacked with bluetooth and having healthcare IT vs other technical IT\n",
    "- Ethics of cyber security, although white hat hackers are very helpful in the cybersecurity space, it is crucial that they remain ethical and don't break the law. \n",
    "- Importance of staying updated. The field is constantly evolving and curiosity and continuous learning is crucial for this fast paced field\n",
    "## What I'm Going To Do\n",
    "- Get the **Certified in Cybersecurity** certificate from ISC2\n",
    "- A+ (Plus) Certification \n",
    "- **CompTIA IT Fundamentals ITF+ certification** (IT Fundamentals)  \n",
    "- I want to participate in at least one hackathon for fun\n",
    "- Start networking--connecting w mentors and other experts "
   ]
  }
 ],
 "metadata": {
  "language_info": {
   "name": "python"
  }
 },
 "nbformat": 4,
 "nbformat_minor": 5
}
