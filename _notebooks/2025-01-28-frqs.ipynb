{
 "cells": [
  {
   "cell_type": "markdown",
   "metadata": {},
   "source": [
    "---\n",
    "toc: True\n",
    "comments: True\n",
    "layout: post\n",
    "title: FRQs Overview/Cheatsheet\n",
    "description: Curious about peanut butter? This is the place for you.\n",
    "type: ccc\n",
    "permalink: frqs\n",
    "courses: { csa: {week: 0} }\n",
    "---"
   ]
  },
  {
   "cell_type": "markdown",
   "metadata": {},
   "source": [
    "## Recursion\n",
    "\n",
    "### General Overview\n",
    "[Lesson](https://nighthawkcoders.github.io/portfolio_2025/recursion/p3_recursion_part1)\n",
    "- **Recursive Method**: A method that calls itself\n",
    "- [Very visual example of recursion](https://www.youtube.com/watch?v=3K3MMtoG8rY)\n",
    "- **Base Case**: A base case is the condition that breaks the recursive function\n",
    "- **Infinite Recursion**: Recursions that go on infinitely\n",
    "```java\n",
    "public static void infRecur(int n)\n",
    "{\n",
    "    System.out.println(n);\n",
    "    \n",
    "    if (n>2) {\n",
    "        simpleRecur2 (n+1); \n",
    "    }\n",
    "}\n",
    "```\n",
    "- **Non void methods**: Recursive methods that return a value"
   ]
  },
  {
   "cell_type": "code",
   "execution_count": 1,
   "metadata": {
    "vscode": {
     "languageId": "java"
    }
   },
   "outputs": [
    {
     "name": "stdout",
     "output_type": "stream",
     "text": [
      "1\n",
      "2\n",
      "3\n",
      "4\n",
      "8\n",
      "10\n"
     ]
    },
    {
     "data": {
      "text/plain": [
       "0"
      ]
     },
     "execution_count": 1,
     "metadata": {},
     "output_type": "execute_result"
    }
   ],
   "source": [
    "//Example\n",
    "// Sum of an array\n",
    "public static int sumArray(int[] arr, int index)\n",
    "{\n",
    "    if (index >= arr.length)\n",
    "    {\n",
    "        return 0;\n",
    "    }\n",
    "    System.out.println(arr[index]);\n",
    "    return sumArray(arr, index+1);\n",
    "};\n",
    "\n",
    "int[] arr = {1, 2, 3, 4, 8, 10};\n",
    "sumArray(arr, 0)"
   ]
  },
  {
   "cell_type": "markdown",
   "metadata": {},
   "source": [
    "### Notes for FRQs\n",
    "- Very helpful to make a table and write out each call to visually track what happens with each recursive call\n",
    "\n",
    "![example table](https://github.com/user-attachments/assets/2b40083d-5b00-4b3d-971a-3a86b5141afb)\n",
    "\n",
    "### Extra Practice\n",
    "[Extra Practice]({{site.baseurl}}/practice)\n",
    "[Blog]({{site.baseurl}}/recursion)"
   ]
  },
  {
   "cell_type": "markdown",
   "metadata": {},
   "source": [
    "## Methods and Control Structures\n",
    "\n",
    "\n",
    "### Extra Practice\n",
    "[Extra Practice]({{site.baseurl}}/practice)\n",
    "[Blog]({{site.baseurl}}/recursion)"
   ]
  },
  {
   "cell_type": "markdown",
   "metadata": {},
   "source": [
    "## Classes\n",
    "\n",
    "\n",
    "### Extra Practice\n",
    "[Extra Practice]({{site.baseurl}}/practice)\n",
    "[Blog]({{site.baseurl}}/recursion)"
   ]
  },
  {
   "cell_type": "markdown",
   "metadata": {},
   "source": [
    "## Array/ArrayList\n",
    "\n",
    "\n",
    "### Extra Practice\n",
    "[Extra Practice]({{site.baseurl}}/practice)\n",
    "[Blog]({{site.baseurl}}/recursion)"
   ]
  },
  {
   "cell_type": "markdown",
   "metadata": {},
   "source": [
    "## 2D Array\n",
    "\n",
    "### Extra Practice\n",
    "[Extra Practice]({{site.baseurl}}/practice)\n",
    "[Blog]({{site.baseurl}}/recursion)"
   ]
  },
  {
   "cell_type": "markdown",
   "metadata": {},
   "source": [
    "## 2D Array Part 2\n",
    "\n",
    "### Extra Practice\n",
    "[Extra Practice]({{site.baseurl}}/practice)\n",
    "[Blog]({{site.baseurl}}/recursion)"
   ]
  }
 ],
 "metadata": {
  "kernelspec": {
   "display_name": "Java",
   "language": "java",
   "name": "java"
  },
  "language_info": {
   "codemirror_mode": "java",
   "file_extension": ".jshell",
   "mimetype": "text/x-java-source",
   "name": "Java",
   "pygments_lexer": "java",
   "version": "17.0.13+11-Ubuntu-2ubuntu122.04"
  }
 },
 "nbformat": 4,
 "nbformat_minor": 2
}
