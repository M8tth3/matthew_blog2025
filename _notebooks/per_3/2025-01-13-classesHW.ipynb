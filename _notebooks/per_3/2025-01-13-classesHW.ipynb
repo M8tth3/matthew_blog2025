{
 "cells": [
  {
   "cell_type": "markdown",
   "metadata": {},
   "source": [
    "---\n",
    "toc: True\n",
    "comments: True\n",
    "layout: post\n",
    "title: Classes HW\n",
    "description: Curious about peanut butter? This is the place for you.\n",
    "type: ccc\n",
    "permalink: classeshw\n",
    "courses: { csa: {week: 0} }\n",
    "---"
   ]
  },
  {
   "cell_type": "markdown",
   "metadata": {},
   "source": [
    "## Popcorn Hack 1 "
   ]
  },
  {
   "cell_type": "code",
   "execution_count": 4,
   "metadata": {
    "vscode": {
     "languageId": "java"
    }
   },
   "outputs": [],
   "source": [
    "public class Cat\n",
    "{\n",
    "    private String sound;\n",
    "    \n",
    "    public Cat(String noise)\n",
    "    {\n",
    "        this.sound = noise;\n",
    "    }\n",
    "}"
   ]
  },
  {
   "cell_type": "markdown",
   "metadata": {},
   "source": [
    "## Popcorn Hack 2"
   ]
  },
  {
   "cell_type": "code",
   "execution_count": 5,
   "metadata": {
    "vscode": {
     "languageId": "java"
    }
   },
   "outputs": [
    {
     "name": "stdout",
     "output_type": "stream",
     "text": [
      "dcba\n"
     ]
    }
   ],
   "source": [
    "public class Cat\n",
    "{\n",
    "    private String sound;\n",
    "    \n",
    "    public Cat(String noise)\n",
    "    {\n",
    "        this.sound = noise;\n",
    "    }\n",
    "\n",
    "    public String makeQuietNoise()\n",
    "    {\n",
    "        if(this.sound.isEmpty())\n",
    "        {\n",
    "            return null;\n",
    "        }\n",
    "        return this.sound.toLowerCase();\n",
    "    }\n",
    "\n",
    "    public String makeReverseNoise()\n",
    "    {\n",
    "        if (this.sound.isEmpty())\n",
    "        {\n",
    "            return null;\n",
    "        }\n",
    "    \n",
    "        String reversed = \"\";\n",
    "        for (int i = this.sound.length() - 1; i >= 0; i--)\n",
    "        {\n",
    "            reversed += this.sound.charAt(i);\n",
    "        }\n",
    "        return reversed;\n",
    "    }\n",
    "    \n",
    "}\n",
    "\n",
    "Cat cat = new Cat(\"abcd\");\n",
    "System.out.println(cat.makeReverseNoise());"
   ]
  },
  {
   "cell_type": "markdown",
   "metadata": {},
   "source": [
    "## Homework"
   ]
  },
  {
   "cell_type": "code",
   "execution_count": null,
   "metadata": {
    "vscode": {
     "languageId": "java"
    }
   },
   "outputs": [],
   "source": [
    "public interface StudyPractice\n",
    "{\n",
    "    String getProblem();\n",
    "\n",
    "    void nextProblem();\n",
    "}\n",
    "\n",
    "public class MultPractice implements StudyPractice\n",
    "{\n",
    "    private int first_integer;\n",
    "    private int second_integer;\n",
    "\n",
    "    public MultPractice(first_integer, second_integer)\n",
    "    {\n",
    "        this.first_integer = first_integer;\n",
    "        this.second_integer = second_integer;\n",
    "    }\n",
    "\n",
    "    @Override \n",
    "    public String getProblem()\n",
    "    {\n",
    "        return first_integer + \"TIMES\" + second_integer;   \n",
    "    }\n",
    "    @Override   \n",
    "    public void nextProblem()\n",
    "    {\n",
    "        second_integer++;\n",
    "    }\n",
    "}"
   ]
  },
  {
   "cell_type": "code",
   "execution_count": null,
   "metadata": {
    "vscode": {
     "languageId": "java"
    }
   },
   "outputs": [],
   "source": []
  }
 ],
 "metadata": {
  "kernelspec": {
   "display_name": "Java",
   "language": "java",
   "name": "java"
  },
  "language_info": {
   "codemirror_mode": "java",
   "file_extension": ".jshell",
   "mimetype": "text/x-java-source",
   "name": "Java",
   "pygments_lexer": "java",
   "version": "17.0.13+11-Ubuntu-2ubuntu122.04"
  }
 },
 "nbformat": 4,
 "nbformat_minor": 2
}
