{
 "cells": [
  {
   "cell_type": "raw",
   "id": "b6d63291",
   "metadata": {
    "vscode": {
     "languageId": "raw"
    }
   },
   "source": [
    "---\n",
    "toc: True\n",
    "comments: True\n",
    "layout: post\n",
    "title: AP CSA FRQs\n",
    "description: \n",
    "type: ccc\n",
    "permalink: projects\n",
    "menu: nav/sprint_recap.html\n",
    "courses: { csa: {week: 0} }\n",
    "---"
   ]
  },
  {
   "cell_type": "markdown",
   "id": "2713788b",
   "metadata": {},
   "source": [
    "## Overview of Projects"
   ]
  },
  {
   "cell_type": "markdown",
   "id": "4ad78af9",
   "metadata": {},
   "source": [
    "### Bathroom Pass\n",
    "- **First Draft**\n",
    "- **First Full Stack Design**\n",
    "- **Implementing the Scanner**\n",
    "- **Refining the Design**\n",
    "- **Bug Fixing**\n",
    "- **N@TM**"
   ]
  },
  {
   "cell_type": "markdown",
   "id": "d856933a",
   "metadata": {},
   "source": [
    "## Unique Qualities"
   ]
  },
  {
   "cell_type": "markdown",
   "id": "ef6fb5ae",
   "metadata": {},
   "source": [
    "## Certification of Articulation Success with Data Structures, homework page."
   ]
  },
  {
   "cell_type": "markdown",
   "id": "1ea6c239",
   "metadata": {},
   "source": [
    "## N@tM + CTE Expo"
   ]
  }
 ],
 "metadata": {
  "language_info": {
   "name": "python"
  }
 },
 "nbformat": 4,
 "nbformat_minor": 5
}
