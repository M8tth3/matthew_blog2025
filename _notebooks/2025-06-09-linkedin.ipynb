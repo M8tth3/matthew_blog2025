{
 "cells": [
  {
   "cell_type": "raw",
   "id": "b6d63291",
   "metadata": {
    "vscode": {
     "languageId": "raw"
    }
   },
   "source": [
    "---\n",
    "toc: True\n",
    "comments: True\n",
    "layout: post\n",
    "title: AP CSA FRQs\n",
    "description: \n",
    "type: ccc\n",
    "permalink: projects\n",
    "courses: { csa: {week: 0} }\n",
    "---"
   ]
  },
  {
   "cell_type": "markdown",
   "id": "2713788b",
   "metadata": {},
   "source": [
    "## Overview of Projects"
   ]
  },
  {
   "cell_type": "markdown",
   "id": "4ad78af9",
   "metadata": {},
   "source": [
    "### Bathroom Pass\n",
    "\n",
    "## Digital Bathroom Pass System  \n",
    "**Open Coding Society | HyFlex Learning Model**\n",
    "\n",
    "A full-stack web application designed to streamline and digitize student bathroom requests for improved transparency and accountability.\n",
    "\n",
    "### Backend – *Tinkle*  \n",
    "The backend tracks bathroom usage across classrooms, providing:\n",
    "- A dashboard with individual student usage history  \n",
    "- Bar graphs to highlight frequent users and outliers  \n",
    "- Real-time queue data for each teacher  \n",
    "\n",
    "### Frontend  \n",
    "A responsive, user-friendly interface for teachers and students, featuring:\n",
    "- Live queue displays showing active and waiting students  \n",
    "- Teacher-specific controls for managing passes  \n",
    "- Mobile-friendly, intuitive design  \n",
    "\n",
    "\n",
    "- **First Draft**\n",
    "\n",
    "<img src=\"https://github.com/user-attachments/assets/cbaa9e13-a200-4ade-82d9-f272843e1a7f\" alt=\"Image\" height=\"300\" style=\"width:auto;\" />\n",
    "\n",
    "**Diagram for Design**\n",
    "\n",
    "<img src=\"https://github.com/user-attachments/assets/f2dd75fc-e934-4d8e-8430-399a4e6e1234\" alt=\"Image\" height=\"300\" style=\"width:auto;\" />\n",
    "\n",
    "**First Full Stack Design With Scanner**\n",
    "\n",
    "<img src=\"https://github.com/user-attachments/assets/a3c48edd-cc1b-4895-9a33-a81ace126452\" alt=\"Image\" height=\"300\" style=\"width:auto;\" />\n",
    "\n",
    "**Refining the Design to the Final Product**\n",
    "\n",
    "<img src=\"https://github.com/user-attachments/assets/0299c89e-bba1-4eb7-9bd3-c1f9229fe49b\" alt=\"Image\" height=\"300\" style=\"width:auto;\" />\n",
    "\n",
    "<img src=\"https://github.com/user-attachments/assets/6b78931f-4610-4b06-b55e-e69ea6a90332\" alt=\"Image\" height=\"300\" style=\"width:auto;\" />\n",
    "\n"
   ]
  },
  {
   "cell_type": "markdown",
   "id": "d856933a",
   "metadata": {},
   "source": [
    "## Unique Qualities\n",
    "**Version Control Proficiency:** Experienced with Git workflows (feature branching, pull requests, rebasing) to ensure clean collaboration, conflict resolution, and traceability throughout the development lifecycle.\n",
    "\n",
    "**Systems Thinking:** Understand how small code changes impact the overall system architecture, enabling thoughtful integration that prevents regressions or performance bottlenecks.\n",
    "\n",
    "**Resilience Under Pressure:** Stay composed when deadlines tighten or production bugs surface, relying on systematic triage, rollback strategies, and clear communication with the team.\n",
    "\n",
    "**Empathy in Engineering:** Prioritize user needs and teammate perspectives when proposing solutions—balancing functionality, usability, and technical feasibility in every iteration.\n",
    "\n",
    "**Continuous Learning:** Embrace unfamiliar tech stacks or tools when needed, accelerating onboarding through documentation, experimentation, and pair programming."
   ]
  },
  {
   "cell_type": "markdown",
   "id": "ef6fb5ae",
   "metadata": {},
   "source": [
    "## Data Structures\n",
    "- [Selection/Insertion Sort](https://m8tth3.github.io/matthew_blog2025/selection)\n",
    "- [Merge Sort](https://m8tth3.github.io/matthew_blog2025/merge)\n",
    "- [Collectibles](https://m8tth3.github.io/matthew_blog2025/collectiblez)\n",
    "- [Fibonacci](https://m8tth3.github.io/matthew_blog2025//fibohw)\n"
   ]
  },
  {
   "cell_type": "markdown",
   "id": "1ea6c239",
   "metadata": {},
   "source": [
    "## N@tM + CTE Expo\n",
    "\n",
    "[CTE Expo](https://github.com/M8tth3/matthew_blog2025/issues/26)\n",
    "\n",
    "## Night at the Museum\n",
    "\n",
    "Presenting our Digital Bathroom Pass System at Night at the Museum was a rewarding experience. We received valuable feedback from parents, teachers, and students, along with creative and insightful feature suggestions. One standout recommendation was to add a scanner outside the bathroom to verify that students actually reach the restroom after signing out — a great idea to further enhance accountability.\n",
    "\n",
    "We were proud to showcase a fully functional version of our project, with no bugs or glitches during the demo (finally!). Everything worked smoothly, from the real-time queue system to the data analytics dashboard.\n",
    "\n",
    "What made the experience even more meaningful was knowing that this wasn't just a demo — the system is already up and running in our classroom. Seeing it actively used every day adds an extra layer of pride to what we’ve built.\n"
   ]
  }
 ],
 "metadata": {
  "language_info": {
   "name": "python"
  }
 },
 "nbformat": 4,
 "nbformat_minor": 5
}
