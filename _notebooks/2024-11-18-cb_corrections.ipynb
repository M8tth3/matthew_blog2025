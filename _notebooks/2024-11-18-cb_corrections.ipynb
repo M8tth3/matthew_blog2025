{
 "cells": [
  {
   "cell_type": "raw",
   "metadata": {
    "vscode": {
     "languageId": "raw"
    }
   },
   "source": [
    "---\n",
    "layout: post\n",
    "title: College Board Corrections\n",
    "description: College Board Corrections\n",
    "categories: ['Collaboration']\n",
    "courses: {'csse': {'week': 0}, 'csp': {'week': 0}, 'csa': {'week': 3}}\n",
    "type: collab\n",
    "toc: True\n",
    "comments: True\n",
    "---"
   ]
  },
  {
   "cell_type": "markdown",
   "metadata": {},
   "source": [
    "![Villain](https://github.com/user-attachments/assets/4bc6d91a-48bb-496f-8c9b-1928d70dced5)"
   ]
  },
  {
   "cell_type": "markdown",
   "metadata": {},
   "source": [
    "## Reflection of the Quiz\n",
    "\n",
    "- Overall there is a lot of room for improvement on College Board Topics. Some of the topics were fairly new to me, like recursion, however after some review of the quesiton I realize that I need to be more procedural when attacking the questions to ensure that I get the accurate answer. I also noticed  that for many of the questions that I got wrong, such as question 4 required me to pay attention to the smaller details of the code(question 4 defined its variables as integers, and I did not take into account that when doing integer division it does not output a decimal). I also noticed that I was tripped up a lot when it came to the indexing of arrays. Specifically, when a snippet of code used the array.length feature and I had to figure out if the code was valid, or if it would throw an error(e.g. question that involved k + a1.length -1 in a for loop).\n",
    "- Moving forward, I think it would be very beneficial to be more attentive to the declaration of variables in the code snippets (whether they're integers or some other data type) or class headers and think about how that may impact the result of the code.\n",
    "- Also need to work on the compound boolean expressions"
   ]
  },
  {
   "cell_type": "markdown",
   "metadata": {},
   "source": [
    "<img src=\"https://github.com/user-attachments/assets/63f099de-f9fc-45db-a15a-21f452108a80\" alt=\"image\">\n"
   ]
  },
  {
   "cell_type": "markdown",
   "metadata": {},
   "source": [
    "The answer choice I selected was incorrect because I did not take into account that x and y are integer data types. When dividing the two integers 7 and 3, the result will be 2."
   ]
  },
  {
   "cell_type": "markdown",
   "metadata": {},
   "source": [
    "<img src=\"https://github.com/user-attachments/assets/dca5b502-62bc-4b35-9ebf-df8ea4082807\" alt=\"image\">\n"
   ]
  },
  {
   "cell_type": "markdown",
   "metadata": {},
   "source": [
    "If the data array only contains one element it will still work because if there is only one element, seqSearchHelper will have int last as 0. Since data[0] will equal 5 since there is only one element and a valid value will be returned."
   ]
  },
  {
   "cell_type": "markdown",
   "metadata": {},
   "source": [
    "<img src=\"https://github.com/user-attachments/assets/55688464-3e9e-422d-93b2-db0c8c9cfa06\" alt=\"image\">\n"
   ]
  },
  {
   "cell_type": "markdown",
   "metadata": {},
   "source": [
    "Since the array is 0 indexed, when last is set equal to zero it will just be the first element of the array and it will still be valid, which is why A is wrong."
   ]
  },
  {
   "cell_type": "markdown",
   "metadata": {},
   "source": [
    "<img src=\"https://github.com/user-attachments/assets/c7e19a46-494d-4e50-9ae4-89a0c721bc40\" alt=\"image\">\n"
   ]
  },
  {
   "cell_type": "markdown",
   "metadata": {},
   "source": [
    "k = 1\n",
    "output = o\n",
    "\n",
    "k = 3\n",
    "\n",
    "output = p\n",
    "\n",
    "k = 5\n",
    "\n",
    "output = t\n",
    "\n",
    "k = 7\n",
    "\n",
    "output = r"
   ]
  },
  {
   "cell_type": "markdown",
   "metadata": {},
   "source": [
    "<img src=\"https://github.com/user-attachments/assets/424e0420-c89e-467f-86f8-0e355641a762\" alt=\"image\">\n"
   ]
  },
  {
   "cell_type": "markdown",
   "metadata": {},
   "source": [
    "Option 3 will throw an error because when k gets to the array length - 1 it will be at the end of the array. Once k is at the end of the array there will be no data[k + 1]"
   ]
  },
  {
   "cell_type": "markdown",
   "metadata": {},
   "source": [
    "<img src=\"https://github.com/user-attachments/assets/4b827c19-10a2-4322-acf4-dce592f038a6\" alt=\"image\">\n"
   ]
  },
  {
   "cell_type": "markdown",
   "metadata": {},
   "source": [
    "Since the for loop statement makes it such that the loop stops when k is no longer < 1 it already makes it a2.length -1. So the correct answer choice would be D."
   ]
  },
  {
   "cell_type": "markdown",
   "metadata": {},
   "source": [
    "<img src=\"https://github.com/user-attachments/assets/c3067892-8cbb-4d5f-84fe-0df72692ae42\" alt=\"image\">\n"
   ]
  },
  {
   "cell_type": "markdown",
   "metadata": {},
   "source": [
    "Because it is an integer, when multiplying the Math.random() by the size of the list the range of values will yield an integer value between 0 and myList.size-1. This problem is yet another example of the importance of paying attention to the datatype of the object."
   ]
  },
  {
   "cell_type": "markdown",
   "metadata": {},
   "source": [
    "<img src=\"https://github.com/user-attachments/assets/048eb920-6577-405c-8272-709f7020a13b\" alt=\"image\">\n"
   ]
  },
  {
   "cell_type": "markdown",
   "metadata": {},
   "source": [
    "I did not take into account that the toString method is inherited automatically by the subclass. I also did not notice that the Book class did nothave the pagesPerMinute function, which is why it could not be called. However, if it were defined in the parent class and inherited by the subclass, then it would work."
   ]
  },
  {
   "cell_type": "markdown",
   "metadata": {},
   "source": [
    "<img src=\"https://github.com/user-attachments/assets/54f4560d-538a-4f4f-8657-24d58b6f2c19\" alt=\"image\">\n"
   ]
  },
  {
   "cell_type": "markdown",
   "metadata": {},
   "source": [
    "k = 5\n",
    "{bear, baboon, zebra, bass, cat, koala}\n",
    "\n",
    "k = 4\n",
    "\n",
    "{bear, baboon, zebra, bass, cat, koala}\n",
    "\n",
    "k = 3\n",
    "\n",
    "{bear, baboon, zebra, bass, cat, koala}\n",
    "\n",
    "k = 2\n",
    "\n",
    "{bear, baboon, zebra, bass, cat, koala}\n",
    "\n",
    "k = 1\n",
    "{bear, zebra, bass, cat, koala, baboon}"
   ]
  },
  {
   "cell_type": "markdown",
   "metadata": {},
   "source": [
    "<img src=\"https://github.com/user-attachments/assets/f7eeaa61-7024-45d8-ab5f-8f9af44a6dfa\" alt=\"image\">\n"
   ]
  },
  {
   "cell_type": "markdown",
   "metadata": {},
   "source": [
    "The 2D array that would be created is\n",
    "{\n",
    "    {1,4,7}\n",
    "    {2,5,8}\n",
    "    {3,6,9}\n",
    "}\n",
    "\n",
    "I got confused when trying to figure out how the 2D array would look when generated\n",
    "The zeroeth row would be the top row, and the second column would be 7. I think that I was not careful when generating the array and I need to be more procedural overall."
   ]
  },
  {
   "cell_type": "markdown",
   "metadata": {},
   "source": [
    "<img src=\"https://github.com/user-attachments/assets/84f56710-d1bc-4ce7-9436-4c3cef6eebc1\" alt=\"image\">\n"
   ]
  },
  {
   "cell_type": "markdown",
   "metadata": {},
   "source": [
    "I did not think of a scenario in which int n would just be less than two, in that case then x would be one at point C. However, since the while loop continues until n is no longer > two, it would be impossible for n to ALWAYS be greater at point B."
   ]
  },
  {
   "cell_type": "markdown",
   "metadata": {},
   "source": [
    "<img src=\"https://github.com/user-attachments/assets/8e7dc543-b0db-40a1-8d86-984171da6443\" alt=\"image\">\n"
   ]
  },
  {
   "cell_type": "markdown",
   "metadata": {},
   "source": [
    "word.substring(4, 7) + word.substring(0,3)\n",
    "iler + com\n",
    "\n",
    "ilercom"
   ]
  },
  {
   "cell_type": "markdown",
   "metadata": {},
   "source": [
    "<img src=\"https://github.com/user-attachments/assets/b51fdcdd-93ad-418a-9f1f-a055d93a8544\" alt=\"image\">\n"
   ]
  },
  {
   "cell_type": "markdown",
   "metadata": {},
   "source": [
    "I was not careful when reading the while loop statement. Since the integer k is never incremented, the statement k<4 will always be true. Therefore, the while loop will continue forever."
   ]
  },
  {
   "cell_type": "markdown",
   "metadata": {},
   "source": [
    "<img src=\"https://github.com/user-attachments/assets/7739a0ab-f51f-4657-a724-057ed6624144\" alt=\"image\">\n"
   ]
  },
  {
   "cell_type": "markdown",
   "metadata": {},
   "source": [
    "I wasn't attentive to the fact that the instance variable x would not be able to be updated since it is a private variable. In order for it to work it would need a setter to set the value of x and y to the coordinate points of a and b. In the future I will need to pay attention to the scope of the variables in College Board Problems."
   ]
  },
  {
   "cell_type": "markdown",
   "metadata": {},
   "source": [
    "<img src=\"https://github.com/user-attachments/assets/46bf6efb-7026-4751-b075-6c8b0e907332\" alt=\"image\">\n"
   ]
  },
  {
   "cell_type": "markdown",
   "metadata": {},
   "source": [
    "Choice three would actually also work because when the value increments by two, by the time it reaches 7 the loop will terminate, and only 1 3 and 5 will be printed. I ended up rushing through this end portion, so taking my time for these problems to ensure that there are no other correct solutions will be important."
   ]
  },
  {
   "cell_type": "markdown",
   "metadata": {},
   "source": [
    "<img src=\"https://github.com/user-attachments/assets/aebff76d-711d-42a5-94f1-e5cc620bc5e7\" alt=\"image\">"
   ]
  },
  {
   "cell_type": "markdown",
   "metadata": {},
   "source": [
    "The reason why A is the correct answer is because x must be between 1000 and 1500, however B does not do fulfill that condition, B makes it such that it will return true if only one or the other condition is fulfilled."
   ]
  },
  {
   "cell_type": "markdown",
   "metadata": {},
   "source": [
    "<script src=\"https://utteranc.es/client.js\"\n",
    "        repo=\"{{ site.github_username }}/{{ site.github_repo | default: site.baseurl | remove: \"/\" }}\"\n",
    "        issue-term=\"title\"\n",
    "        label=\"blogpost-comment\"\n",
    "        theme=\"github-light\"\n",
    "        crossorigin=\"anonymous\"\n",
    "        async>\n",
    "</script>"
   ]
  }
 ],
 "metadata": {
  "language_info": {
   "name": "python"
  }
 },
 "nbformat": 4,
 "nbformat_minor": 2
}
